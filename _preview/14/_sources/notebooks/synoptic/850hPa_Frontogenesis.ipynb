{
 "cells": [
  {
   "cell_type": "markdown",
   "metadata": {
    "cell_marker": "\"\"\""
   },
   "source": [
    "850-hPa Geopotential Heights, Temperature, Frontogenesis, and Winds\n",
    "===================================================================\n",
    "\n",
    "Frontogenesis at 850-hPa with Geopotential Heights, Temperature, and\n",
    "Winds\n",
    "\n",
    "This example uses example data from the GFS analysis for 12 UTC 26\n",
    "October 2010 and uses xarray as the main read source with using MetPy to\n",
    "calculate frontogenesis and wind speed with geographic plotting using\n",
    "Cartopy for a CONUS view.\n"
   ]
  },
  {
   "cell_type": "markdown",
   "metadata": {
    "cell_marker": "######################################################################"
   },
   "source": [
    "Import the needed modules.\n"
   ]
  },
  {
   "cell_type": "code",
   "execution_count": null,
   "metadata": {},
   "outputs": [],
   "source": [
    "import cartopy.crs as ccrs\n",
    "import cartopy.feature as cfeature\n",
    "import matplotlib.pyplot as plt\n",
    "import metpy.calc as mpcalc\n",
    "from metpy.units import units\n",
    "import numpy as np\n",
    "import xarray as xr"
   ]
  },
  {
   "cell_type": "markdown",
   "metadata": {
    "cell_marker": "######################################################################"
   },
   "source": [
    "Use Xarray to access GFS data from THREDDS resource and uses\n",
    "metpy accessor to parse file to make it easy to pull data using\n",
    "common coordinate names (e.g., vertical) and attach units.\n"
   ]
  },
  {
   "cell_type": "code",
   "execution_count": null,
   "metadata": {},
   "outputs": [],
   "source": [
    "ds = xr.open_dataset('https://thredds.ucar.edu/thredds/dodsC/casestudies/'\n",
    "                     'python-gallery/GFS_20101026_1200.nc').metpy.parse_cf()"
   ]
  },
  {
   "cell_type": "markdown",
   "metadata": {
    "cell_marker": "######################################################################"
   },
   "source": [
    "Subset data based on latitude and longitude values, calculate potential\n",
    "temperature for frontogenesis calculation.\n"
   ]
  },
  {
   "cell_type": "code",
   "execution_count": null,
   "metadata": {},
   "outputs": [],
   "source": [
    "# Set subset slice for the geographic extent of data to limit download\n",
    "lon_slice = slice(200, 350)\n",
    "lat_slice = slice(85, 10)\n",
    "\n",
    "# Grab lat/lon values (GFS will be 1D)\n",
    "lats = ds.lat.sel(lat=lat_slice).values\n",
    "lons = ds.lon.sel(lon=lon_slice).values\n",
    "\n",
    "level = 850 * units.hPa\n",
    "hght_850 = ds.Geopotential_height_isobaric.metpy.sel(\n",
    "    vertical=level, lat=lat_slice, lon=lon_slice).squeeze()\n",
    "tmpk_850 = ds.Temperature_isobaric.metpy.sel(\n",
    "    vertical=level, lat=lat_slice, lon=lon_slice).squeeze()\n",
    "uwnd_850 = ds['u-component_of_wind_isobaric'].metpy.sel(\n",
    "    vertical=level, lat=lat_slice, lon=lon_slice).squeeze()\n",
    "vwnd_850 = ds['v-component_of_wind_isobaric'].metpy.sel(\n",
    "    vertical=level, lat=lat_slice, lon=lon_slice).squeeze()\n",
    "\n",
    "# Convert temperatures to degree Celsius for plotting purposes\n",
    "tmpc_850 = tmpk_850.metpy.convert_units('degC')\n",
    "\n",
    "# Calculate potential temperature for frontogenesis calculation\n",
    "thta_850 = mpcalc.potential_temperature(level, tmpk_850)\n",
    "\n",
    "# Get a sensible datetime format\n",
    "vtime = ds.time.data[0].astype('datetime64[ms]').astype('O')"
   ]
  },
  {
   "cell_type": "markdown",
   "metadata": {
    "cell_marker": "######################################################################"
   },
   "source": [
    "Calculate frontogenesis\n",
    "-----------------------\n",
    "\n",
    "Frontogenesis calculation in MetPy requires temperature, wind\n",
    "components, and grid spacings. First compute the grid deltas using MetPy\n",
    "functionality, then put it all together in the frontogenesis function.\n",
    "\n",
    "Note: MetPy will give the output with SI units, but typically\n",
    "frontogenesis (read: GEMPAK) output this variable with units of K per\n",
    "100 km per 3 h; a conversion factor is included here to use at plot time\n",
    "to reflect those units.\n"
   ]
  },
  {
   "cell_type": "code",
   "execution_count": null,
   "metadata": {},
   "outputs": [],
   "source": [
    "fronto_850 = mpcalc.frontogenesis(thta_850, uwnd_850, vwnd_850)\n",
    "\n",
    "# A conversion factor to get frontogensis units of K per 100 km per 3 h\n",
    "convert_to_per_100km_3h = 1000*100*3600*3"
   ]
  },
  {
   "cell_type": "markdown",
   "metadata": {
    "cell_marker": "######################################################################"
   },
   "source": [
    "Plotting Frontogenesis\n",
    "----------------------\n",
    "\n",
    "Using a Lambert Conformal projection from Cartopy to plot 850-hPa\n",
    "variables including frontogenesis.\n"
   ]
  },
  {
   "cell_type": "code",
   "execution_count": null,
   "metadata": {},
   "outputs": [],
   "source": [
    "# Set map projection\n",
    "mapcrs = ccrs.LambertConformal(central_longitude=-100, central_latitude=35,\n",
    "                               standard_parallels=(30, 60))\n",
    "\n",
    "# Set projection of the data (GFS is lat/lon)\n",
    "datacrs = ccrs.PlateCarree()\n",
    "\n",
    "# Start figure and limit the graphical area extent\n",
    "fig = plt.figure(1, figsize=(14, 12))\n",
    "ax = plt.subplot(111, projection=mapcrs)\n",
    "ax.set_extent([-130, -72, 20, 55], ccrs.PlateCarree())\n",
    "\n",
    "# Add map features of Coastlines and States\n",
    "ax.add_feature(cfeature.COASTLINE.with_scale('50m'))\n",
    "ax.add_feature(cfeature.STATES.with_scale('50m'))\n",
    "\n",
    "# Plot 850-hPa Frontogenesis\n",
    "clevs_tmpc = np.arange(-40, 41, 2)\n",
    "cf = ax.contourf(lons, lats, fronto_850*convert_to_per_100km_3h,\n",
    "                 np.arange(-8, 8.5, 0.5), cmap=plt.cm.bwr, extend='both',\n",
    "                 transform=datacrs)\n",
    "cb = plt.colorbar(cf, orientation='horizontal', pad=0, aspect=50,\n",
    "                  extendrect=True)\n",
    "cb.set_label('Frontogenesis K / 100 km / 3 h')\n",
    "\n",
    "# Plot 850-hPa Temperature in Celsius\n",
    "csf = ax.contour(lons, lats, tmpc_850, clevs_tmpc, colors='grey',\n",
    "                 linestyles='dashed', transform=datacrs)\n",
    "plt.clabel(csf, fmt='%d')\n",
    "\n",
    "# Plot 850-hPa Geopotential Heights\n",
    "clevs_850_hght = np.arange(0, 8000, 30)\n",
    "cs = ax.contour(lons, lats, hght_850, clevs_850_hght, colors='black',\n",
    "                transform=datacrs)\n",
    "plt.clabel(cs, fmt='%d')\n",
    "\n",
    "# Plot 850-hPa Wind Barbs only plotting every fifth barb\n",
    "wind_slice = (slice(None, None, 5), slice(None, None, 5))\n",
    "ax.barbs(lons[wind_slice[0]], lats[wind_slice[1]],\n",
    "         uwnd_850[wind_slice].metpy.convert_units('kt').values,\n",
    "         vwnd_850[wind_slice].metpy.convert_units('kt').values,\n",
    "         color='black', transform=datacrs)\n",
    "\n",
    "# Plot some titles\n",
    "plt.title('GFS 850-hPa Geopotential Heights (m), Temp (C), and Winds',\n",
    "          loc='left')\n",
    "plt.title(f'Valid Time: {vtime}', loc='right')"
   ]
  },
  {
   "cell_type": "code",
   "execution_count": null,
   "metadata": {},
   "outputs": [],
   "source": []
  }
 ],
 "metadata": {
  "jupytext": {
   "cell_metadata_filter": "-all",
   "main_language": "python",
   "notebook_metadata_filter": "-all"
  },
  "kernelspec": {
   "display_name": "Python 3 (ipykernel)",
   "language": "python",
   "name": "python3"
  },
  "language_info": {
   "codemirror_mode": {
    "name": "ipython",
    "version": 3
   },
   "file_extension": ".py",
   "mimetype": "text/x-python",
   "name": "python",
   "nbconvert_exporter": "python",
   "pygments_lexer": "ipython3",
   "version": "3.11.4"
  }
 },
 "nbformat": 4,
 "nbformat_minor": 4
}
