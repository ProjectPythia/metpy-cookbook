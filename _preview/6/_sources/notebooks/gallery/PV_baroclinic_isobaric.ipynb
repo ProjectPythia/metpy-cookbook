{
 "cells": [
  {
   "cell_type": "markdown",
   "metadata": {
    "cell_marker": "\"\"\""
   },
   "source": [
    "Baroclinic Potential Vorticity Analysis, Divergence, and Winds\n",
    "==============================================================\n",
    "\n",
    "Classic baroclinic potential vorticity plot at 250 hPa using GFS\n",
    "analysis file.\n",
    "\n",
    "This example uses example data from the GFS analysis for 12 UTC 31\n",
    "October 2016 and uses xarray as the main read source with using MetPy to\n",
    "calculate the baroclinic potential vorticity, divergence and wind speed\n",
    "with geographic plotting using Cartopy for a CONUS view of the 250-hPa\n",
    "surface with divergence and wind barbs.\n",
    "\n",
    "By: Kevin Goebbert"
   ]
  },
  {
   "cell_type": "code",
   "execution_count": null,
   "metadata": {},
   "outputs": [],
   "source": [
    "import cartopy.crs as ccrs\n",
    "import cartopy.feature as cfeature\n",
    "import matplotlib.pyplot as plt\n",
    "import metpy.calc as mpcalc\n",
    "from metpy.units import units\n",
    "import numpy as np\n",
    "import xarray as xr"
   ]
  },
  {
   "cell_type": "markdown",
   "metadata": {
    "cell_marker": "######################################################################"
   },
   "source": [
    "The following code reads the example data using the xarray open_dataset\n",
    "function and prints the coordinate values that are associated with the\n",
    "various variables contained within the file.\n",
    "\n",
    "This code uses the metpy accessor to parse file to make it easy to pull\n",
    "data using common coordinate names (e.g., vertical) and attach units.\n"
   ]
  },
  {
   "cell_type": "code",
   "execution_count": null,
   "metadata": {},
   "outputs": [],
   "source": [
    "ds = xr.open_dataset('https://thredds.ucar.edu/thredds/dodsC/casestudies'\n",
    "                     '/python-gallery/GFS_20101026_1200.nc').metpy.parse_cf()"
   ]
  },
  {
   "cell_type": "markdown",
   "metadata": {
    "cell_marker": "######################################################################"
   },
   "source": [
    "Data Retrieval\n",
    "--------------\n",
    "\n",
    "This code retrieves the necessary data from the file and completes some\n",
    "smoothing of the temperature, and wind fields using the MetPy function\n",
    "smooth_n_point. A nicely formated valid time (vtime) variable is also\n",
    "created.\n"
   ]
  },
  {
   "cell_type": "code",
   "execution_count": null,
   "metadata": {},
   "outputs": [],
   "source": [
    "# Set subset slice for the geographic extent of data to limit download\n",
    "lon_slice = slice(200, 350)\n",
    "lat_slice = slice(85, 10)\n",
    "\n",
    "# Grab lat/lon values (GFS will be 1D)\n",
    "lats = ds.lat.sel(lat=lat_slice).values\n",
    "lons = ds.lon.sel(lon=lon_slice).values\n",
    "\n",
    "\n",
    "# Grab the pressure levels and select the data to be imported\n",
    "# Need all pressure levels for Temperatures, U and V Wind,\n",
    "# and Rel. Humidity\n",
    "# Smooth with the gaussian filter from scipy\n",
    "pres = ds.Temperature_isobaric.metpy.vertical\n",
    "\n",
    "tmpk_var = ds['Temperature_isobaric'].metpy.sel(\n",
    "    lat=lat_slice, lon=lon_slice).squeeze()\n",
    "tmpk = mpcalc.smooth_n_point(tmpk_var, 9, 2)\n",
    "thta = mpcalc.potential_temperature(pres, tmpk)\n",
    "\n",
    "uwnd_var = ds['u-component_of_wind_isobaric'].metpy.sel(\n",
    "    lat=lat_slice, lon=lon_slice).squeeze()\n",
    "vwnd_var = ds['v-component_of_wind_isobaric'].metpy.sel(\n",
    "    lat=lat_slice, lon=lon_slice).squeeze()\n",
    "uwnd = mpcalc.smooth_n_point(uwnd_var, 9, 2)\n",
    "vwnd = mpcalc.smooth_n_point(vwnd_var, 9, 2)\n",
    "\n",
    "# Create a clean datetime object for plotting based on time of\n",
    "# Geopotential heights\n",
    "vtime = ds.time.data[0].astype('datetime64[ms]').astype('O')"
   ]
  },
  {
   "cell_type": "markdown",
   "metadata": {
    "cell_marker": "######################################################################"
   },
   "source": [
    "Use MetPy to compute the baroclinic potential vorticity on all isobaric\n",
    "levels and other variables\n"
   ]
  },
  {
   "cell_type": "code",
   "execution_count": null,
   "metadata": {},
   "outputs": [],
   "source": [
    "# Comput the PV on all isobaric surfaces\n",
    "pv = mpcalc.potential_vorticity_baroclinic(thta, pres, uwnd, vwnd)\n",
    "\n",
    "# Use MetPy to compute the divergence on the pressure surfaces\n",
    "div = mpcalc.divergence(uwnd, vwnd)\n",
    "\n",
    "# Select the 250-hPa surface\n",
    "pv_250 = pv.metpy.sel(vertical=250*units.hPa)\n",
    "div_250 = div.metpy.sel(vertical=250*units.hPa)\n",
    "uwnd_250 = uwnd.metpy.sel(vertical=250*units.hPa)\n",
    "vwnd_250 = vwnd.metpy.sel(vertical=250*units.hPa)"
   ]
  },
  {
   "cell_type": "markdown",
   "metadata": {
    "cell_marker": "######################################################################"
   },
   "source": [
    "Map Creation\n",
    "------------\n",
    "\n",
    "This next set of code creates the plot and draws contours on a Lambert\n",
    "Conformal map centered on -100 E longitude. The main view is over the\n",
    "CONUS with isobaric PV map with PV contoured every 1 PVU and divergence\n",
    "colorshaded.\n"
   ]
  },
  {
   "cell_type": "code",
   "execution_count": null,
   "metadata": {},
   "outputs": [],
   "source": [
    "# Set up the projection that will be used for plotting\n",
    "mapcrs = ccrs.LambertConformal(central_longitude=-100,\n",
    "                               central_latitude=35,\n",
    "                               standard_parallels=(30, 60))\n",
    "\n",
    "# Set up the projection of the data;\n",
    "# if lat/lon then PlateCarree is what you want\n",
    "datacrs = ccrs.PlateCarree()\n",
    "\n",
    "# Start the figure and create plot axes with proper projection\n",
    "fig = plt.figure(1, figsize=(14, 12))\n",
    "ax = plt.subplot(111, projection=mapcrs)\n",
    "ax.set_extent([-130, -72, 20, 55], ccrs.PlateCarree())\n",
    "\n",
    "# Add geopolitical boundaries for map reference\n",
    "ax.add_feature(cfeature.COASTLINE.with_scale('50m'))\n",
    "ax.add_feature(cfeature.STATES.with_scale('50m'))\n",
    "\n",
    "# Plot the contours of PV at 250 hPa, scaling 10^6 every 1 PVU\n",
    "clevs_pv = np.arange(0, 25, 1)\n",
    "cs1 = ax.contour(lons, lats, pv_250*1e6, clevs_pv, colors='black',\n",
    "                 transform=datacrs)\n",
    "plt.clabel(cs1, fmt='%d', fontsize='large')\n",
    "\n",
    "# Plot the colorfill of divergence, scaled 10^5 every 1 s^1\n",
    "clevs_div = np.arange(-15, 16, 1)\n",
    "cs1 = ax.contourf(lons, lats, div_250*1e5, clevs_div, cmap=plt.cm.PuOr,\n",
    "                  extend='both', transform=datacrs)\n",
    "plt.colorbar(cs1, orientation='horizontal', pad=0, aspect=50, extendrect=True)\n",
    "\n",
    "# Plot the wind barbs at 250 hPa\n",
    "wind_slice = slice(None, None, 6)\n",
    "ax.barbs(lons[wind_slice], lats[wind_slice],\n",
    "         uwnd_250[wind_slice, wind_slice].metpy.convert_units('kt').values,\n",
    "         vwnd_250[wind_slice, wind_slice].metpy.convert_units('kt').values,\n",
    "         pivot='middle', color='black', length=6.5, transform=datacrs)\n",
    "\n",
    "# Plot some titles to tell people what is on the map\n",
    "plt.title('250-hPa GFS PV (PVU), Divergence ($10^5$ s$^{-1}$),'\n",
    "          ' and Wind Barbs (kt)', loc='left')\n",
    "plt.title(f'Valid Time: {vtime}', loc='right')"
   ]
  },
  {
   "cell_type": "code",
   "execution_count": null,
   "metadata": {},
   "outputs": [],
   "source": []
  }
 ],
 "metadata": {
  "jupytext": {
   "cell_metadata_filter": "-all",
   "main_language": "python",
   "notebook_metadata_filter": "-all"
  },
  "kernelspec": {
   "display_name": "Python 3 (ipykernel)",
   "language": "python",
   "name": "python3"
  },
  "language_info": {
   "codemirror_mode": {
    "name": "ipython",
    "version": 3
   },
   "file_extension": ".py",
   "mimetype": "text/x-python",
   "name": "python",
   "nbconvert_exporter": "python",
   "pygments_lexer": "ipython3",
   "version": "3.11.4"
  }
 },
 "nbformat": 4,
 "nbformat_minor": 4
}
