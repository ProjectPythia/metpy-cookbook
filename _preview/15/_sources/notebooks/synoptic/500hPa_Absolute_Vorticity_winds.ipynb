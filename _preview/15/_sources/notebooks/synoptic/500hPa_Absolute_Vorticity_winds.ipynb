{
 "cells": [
  {
   "cell_type": "markdown",
   "metadata": {
    "cell_marker": "\"\"\""
   },
   "source": [
    "500 hPa Geopotential Heights, Absolute Vorticity, and Winds\n",
    "===========================================================\n",
    "\n",
    "Classic 500-hPa absolute vorticity plot using NAM analysis file.\n",
    "\n",
    "This example uses example data from the NAM analysis for 12 UTC 31\n",
    "October 2016 and uses xarray as the main read source with using MetPy to\n",
    "calculate absolute vorticity and wind speed with geographic plotting\n",
    "using Cartopy for a CONUS view of the 500-hPa geopotential heights,\n",
    "absolute vorticity, and wind barbs.\n",
    "\n",
    "Note: NAM winds are grid relative and this example introduces a simple\n",
    "function to convert the grid-relative wind components to an\n",
    "earth-relative (north/east oriented winds) to enable easier plotting of\n",
    "wind barbs and calculation of absolute vorticity.\n"
   ]
  },
  {
   "cell_type": "markdown",
   "metadata": {
    "cell_marker": "######################################################################"
   },
   "source": [
    "Import the needed modules\n"
   ]
  },
  {
   "cell_type": "code",
   "execution_count": null,
   "metadata": {},
   "outputs": [],
   "source": [
    "import cartopy.crs as ccrs\n",
    "import cartopy.feature as cfeature\n",
    "import matplotlib.pyplot as plt\n",
    "import metpy.calc as mpcalc\n",
    "from metpy.units import units\n",
    "import numpy as np\n",
    "import xarray as xr"
   ]
  },
  {
   "cell_type": "markdown",
   "metadata": {
    "cell_marker": "######################################################################"
   },
   "source": [
    "Function to Compute Earth-Relative Winds\n",
    "----------------------------------------\n",
    "\n",
    "This function takes a data array with relevant information about the\n",
    "projection of the wind component data, along with the grid-relative\n",
    "components of the wind. It outputs the earth-relative components of the\n",
    "wind.\n"
   ]
  },
  {
   "cell_type": "code",
   "execution_count": null,
   "metadata": {
    "lines_to_next_cell": 1
   },
   "outputs": [],
   "source": [
    "def earth_relative_wind_components(ugrd, vgrd):\n",
    "    \"\"\"Calculate the north-relative components of the\n",
    "    wind from the grid-relative components using Cartopy\n",
    "    transform_vectors.\n",
    "\n",
    "    Parameters\n",
    "    ----------\n",
    "        ugrd : Xarray DataArray (M, N)\n",
    "            grid relative u-component of the wind\n",
    "        vgrd : Xarray DataArray (M, N)\n",
    "            grid relative v-component of the wind\n",
    "\n",
    "    Returns\n",
    "    -------\n",
    "        unr, vnr : tuple of array-like Quantity\n",
    "            The north-relative wind components in the X (East-West)\n",
    "            and Y (North-South) directions, respectively.\n",
    "    \"\"\"\n",
    "    if 'metpy_crs' not in ugrd.coords:\n",
    "        raise ValueError('No CRS in coordinate, be sure to'\n",
    "                         'use the MetPy accessor parse_cf()')\n",
    "\n",
    "    data_crs = ugrd.metpy.cartopy_crs\n",
    "\n",
    "    x = ugrd.x.values\n",
    "    y = ugrd.y.values\n",
    "\n",
    "    xx, yy = np.meshgrid(x, y)\n",
    "\n",
    "    ut, vt = ccrs.PlateCarree().transform_vectors(data_crs, xx, yy,\n",
    "                                                  ugrd.values, vgrd.values)\n",
    "\n",
    "    # Make a copy of u and v component DataArrays\n",
    "    uer = ugrd.copy()\n",
    "    ver = vgrd.copy()\n",
    "\n",
    "    # Update values with transformed winds\n",
    "    uer.values = ut\n",
    "    ver.values = vt\n",
    "\n",
    "    return uer, ver\n"
   ]
  },
  {
   "cell_type": "markdown",
   "metadata": {
    "cell_marker": "######################################################################"
   },
   "source": [
    "The following code reads the example data using the xarray open_dataset\n",
    "function and prints the coordinate values that are associated with the\n",
    "various variables contained within the file\n"
   ]
  },
  {
   "cell_type": "code",
   "execution_count": null,
   "metadata": {},
   "outputs": [],
   "source": [
    "ds = xr.open_dataset('https://thredds.ucar.edu/thredds/dodsC/casestudies/'\n",
    "                     'python-gallery/NAM_20161031_1200.nc').metpy.parse_cf()"
   ]
  },
  {
   "cell_type": "markdown",
   "metadata": {
    "cell_marker": "######################################################################"
   },
   "source": [
    "Data Retrieval\n",
    "--------------\n",
    "\n",
    "This code retrieves the necessary data from the file and completes some\n",
    "smoothing of the geopotential height and wind fields using the SciPy\n",
    "function gaussian_filter. A nicely formated valid time (vtime) variable\n",
    "is also created\n"
   ]
  },
  {
   "cell_type": "code",
   "execution_count": null,
   "metadata": {},
   "outputs": [],
   "source": [
    "# Grab lat/lon values (NAM will be 2D)\n",
    "lats = ds.lat.data\n",
    "lons = ds.lon.data\n",
    "\n",
    "# Grab x, y data and make 2D for wind component plotting because\n",
    "# u- and v-components are grid relative\n",
    "x = ds['u-component_of_wind_isobaric'].x\n",
    "y = ds['u-component_of_wind_isobaric'].y\n",
    "\n",
    "xx, yy = np.meshgrid(x, y)\n",
    "\n",
    "# Grab Cartopy CRS from metadata for plotting wind barbs\n",
    "datacrs = ds['u-component_of_wind_isobaric'].metpy.cartopy_crs\n",
    "\n",
    "# Select and grab 500-hPa geopotential heights and smooth with n-point smoother\n",
    "level = 500 * units.hPa\n",
    "hght_500 = mpcalc.smooth_n_point(ds.Geopotential_height_isobaric.metpy.sel(\n",
    "    vertical=level).squeeze(), 9, 50)\n",
    "\n",
    "# Select and grab 500-hPa wind components\n",
    "uwnd_500 = ds['u-component_of_wind_isobaric'].metpy.sel(\n",
    "    vertical=level).squeeze().metpy.assign_latitude_longitude()\n",
    "vwnd_500 = ds['v-component_of_wind_isobaric'].metpy.sel(\n",
    "    vertical=level).squeeze().metpy.assign_latitude_longitude()\n",
    "\n",
    "# Compute north-relative wind components for plotting purposes\n",
    "uwnd_er, vwnd_er = earth_relative_wind_components(uwnd_500, vwnd_500)\n",
    "\n",
    "# Smooth wind components as desired\n",
    "uwnd_er = mpcalc.smooth_n_point(uwnd_er, 9, 50)\n",
    "vwnd_er = mpcalc.smooth_n_point(vwnd_er, 9, 50)\n",
    "\n",
    "# Create a clean datetime object for plotting based on time\n",
    "# of Geopotential heights\n",
    "vtime = ds.time.data[0].astype('datetime64[ms]').astype('O')"
   ]
  },
  {
   "cell_type": "markdown",
   "metadata": {
    "cell_marker": "######################################################################"
   },
   "source": [
    "MetPy Absolute Vorticity Calculation\n",
    "------------------------------------\n",
    "\n",
    "This code calculates ``absolute_vorticity()``\n",
    "using the wind components and makes use of the\n",
    "xarray data object features to complete the necessary\n",
    "grid-aware calculation.\n"
   ]
  },
  {
   "cell_type": "code",
   "execution_count": null,
   "metadata": {},
   "outputs": [],
   "source": [
    "# Calculate absolute vorticity from MetPy function\n",
    "avor_500 = mpcalc.absolute_vorticity(uwnd_er, vwnd_er)"
   ]
  },
  {
   "cell_type": "markdown",
   "metadata": {
    "cell_marker": "######################################################################"
   },
   "source": [
    "Map Creation\n",
    "------------\n",
    "\n",
    "This next set of code creates the plot and draws contours on a Lambert\n",
    "Conformal map centered on -100 E longitude. The main view is over the\n",
    "CONUS with geopotential heights contoured every 60 m and absolute\n",
    "vorticity colorshaded (`*10^5`).\n"
   ]
  },
  {
   "cell_type": "code",
   "execution_count": null,
   "metadata": {},
   "outputs": [],
   "source": [
    "# Set up the projection that will be used for plotting\n",
    "mapcrs = ccrs.LambertConformal(central_longitude=-100, central_latitude=35,\n",
    "                               standard_parallels=(30, 60))\n",
    "\n",
    "# Set up the projection of the data;\n",
    "# if lat/lon then PlateCarree is what you want\n",
    "datacrs = ccrs.PlateCarree()\n",
    "\n",
    "# Start the figure and create plot axes with proper projection\n",
    "fig = plt.figure(1, figsize=(14, 12))\n",
    "ax = plt.subplot(111, projection=mapcrs)\n",
    "ax.set_extent([-130, -72, 20, 55], ccrs.PlateCarree())\n",
    "\n",
    "# Add geopolitical boundaries for map reference\n",
    "ax.add_feature(cfeature.COASTLINE.with_scale('50m'))\n",
    "ax.add_feature(cfeature.STATES.with_scale('50m'))\n",
    "\n",
    "# Absolute Vorticity colors\n",
    "# Use two different colormaps from matplotlib and combine into one color set\n",
    "clevs_500_avor = list(range(-8, 1, 1))+list(range(8, 46, 1))\n",
    "colors1 = plt.cm.YlOrRd(np.linspace(0, 1, 48))\n",
    "colors2 = plt.cm.BuPu(np.linspace(0.5, 0.75, 8))\n",
    "colors = np.vstack((colors2, (1, 1, 1, 1), colors1))\n",
    "\n",
    "# Plot absolute vorticity values (multiplying by 10^5 to scale appropriately)\n",
    "cf = ax.contourf(lons, lats, avor_500*1e5, clevs_500_avor, colors=colors,\n",
    "                 extend='max', transform=datacrs)\n",
    "cb = plt.colorbar(cf, orientation='horizontal', pad=0, aspect=50,\n",
    "                  extendrect=True)\n",
    "cb.set_label('Abs. Vorticity ($s^{-1}$)')\n",
    "\n",
    "# Plot 500-hPa Geopotential Heights in meters\n",
    "clevs_500_hght = np.arange(0, 8000, 60)\n",
    "cs = ax.contour(lons, lats, hght_500, clevs_500_hght, colors='black',\n",
    "                transform=datacrs)\n",
    "plt.clabel(cs, fmt='%d')\n",
    "\n",
    "# Set up a 2D slice to reduce the number of wind barbs plotted (every 20th)\n",
    "wind_slice = (slice(None, None, 20), slice(None, None, 20))\n",
    "ax.barbs(lons[wind_slice], lats[wind_slice],\n",
    "         uwnd_er.metpy.convert_units('kt')[wind_slice].values,\n",
    "         vwnd_er[wind_slice].metpy.convert_units('kt').values,\n",
    "         pivot='middle', color='black', transform=datacrs)\n",
    "\n",
    "# Plot two titles, one on right and left side\n",
    "plt.title('500-hPa NAM Geopotential Heights (m)'\n",
    "          ' and Wind Barbs (kt)', loc='left')\n",
    "plt.title(f'Valid Time: {vtime}', loc='right')"
   ]
  },
  {
   "cell_type": "code",
   "execution_count": null,
   "metadata": {},
   "outputs": [],
   "source": []
  }
 ],
 "metadata": {
  "jupytext": {
   "cell_metadata_filter": "-all",
   "main_language": "python",
   "notebook_metadata_filter": "-all"
  },
  "kernelspec": {
   "display_name": "Python 3 (ipykernel)",
   "language": "python",
   "name": "python3"
  },
  "language_info": {
   "codemirror_mode": {
    "name": "ipython",
    "version": 3
   },
   "file_extension": ".py",
   "mimetype": "text/x-python",
   "name": "python",
   "nbconvert_exporter": "python",
   "pygments_lexer": "ipython3",
   "version": "3.11.4"
  }
 },
 "nbformat": 4,
 "nbformat_minor": 4
}
