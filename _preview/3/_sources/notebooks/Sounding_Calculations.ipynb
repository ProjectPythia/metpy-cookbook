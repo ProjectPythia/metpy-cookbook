{
 "cells": [
  {
   "cell_type": "markdown",
   "metadata": {},
   "source": [
    "\n",
    "# Sounding Calculation Examples\n",
    "\n",
    "Use functions from `metpy.calc` to perform a number of calculations using sounding data.\n",
    "\n",
    "The code below uses example data to perform many sounding calculations for a severe weather\n",
    "event on May 22, 2011 from the Norman, OK sounding.\n"
   ]
  },
  {
   "cell_type": "markdown",
   "metadata": {},
   "source": [
    "## Imports"
   ]
  },
  {
   "cell_type": "code",
   "execution_count": 1,
   "metadata": {
    "collapsed": false,
    "jupyter": {
     "outputs_hidden": false
    }
   },
   "outputs": [],
   "source": [
    "import numpy as np\n",
    "import pandas as pd\n",
    "\n",
    "import metpy.calc as mpcalc\n",
    "from metpy.cbook import get_test_data\n",
    "from metpy.units import units"
   ]
  },
  {
   "cell_type": "markdown",
   "metadata": {},
   "source": [
    "Effective Shear Algorithm for use in Supercell Composite Calculation\n",
    "\n"
   ]
  },
  {
   "cell_type": "code",
   "execution_count": 2,
   "metadata": {
    "collapsed": false,
    "jupyter": {
     "outputs_hidden": false
    }
   },
   "outputs": [],
   "source": [
    "def effective_layer(pressure, temperature, dewpoint, height, height_layer=False):\n",
    "    \"\"\"A function that determines the effective inflow layer for a convective sounding.\n",
    "\n",
    "    Uses the default values of Thompason et al. (2004) for CAPE (100 J/kg) and CIN (-250 J/kg).\n",
    "\n",
    "    Input:\n",
    "      - pressure: sounding pressure with units\n",
    "      - temperature: sounding temperature with units\n",
    "      - dewpoint: sounding dewpoint temperature with units\n",
    "      - height: sounding heights with units\n",
    "\n",
    "    Returns:\n",
    "      - pbot/hbot, ptop/htop: pressure/height of the bottom level,\n",
    "                              pressure/height of the top level\n",
    "    \"\"\"\n",
    "    from metpy.calc import cape_cin, parcel_profile\n",
    "    from metpy.units import units\n",
    "\n",
    "    pbot = None\n",
    "\n",
    "    for i in range(pressure.shape[0]):\n",
    "        prof = parcel_profile(pressure[i:], temperature[i], dewpoint[i])\n",
    "        sbcape, sbcin = cape_cin(pressure[i:], temperature[i:], dewpoint[i:], prof)\n",
    "        if sbcape >= 100 * units('J/kg') and sbcin > -250 * units('J/kg'):\n",
    "            pbot = pressure[i]\n",
    "            hbot = height[i]\n",
    "            bot_idx = i\n",
    "            break\n",
    "    if not pbot:\n",
    "        return None, None\n",
    "\n",
    "    for i in range(bot_idx + 1, pressure.shape[0]):\n",
    "        prof = parcel_profile(pressure[i:], temperature[i], dewpoint[i])\n",
    "        sbcape, sbcin = cape_cin(pressure[i:], temperature[i:], dewpoint[i:], prof)\n",
    "        if sbcape < 100 * units('J/kg') or sbcin < -250 * units('J/kg'):\n",
    "            ptop = pressure[i]\n",
    "            htop = height[i]\n",
    "            break\n",
    "\n",
    "    if height_layer:\n",
    "        return hbot, htop\n",
    "    else:\n",
    "        return pbot, ptop"
   ]
  },
  {
   "cell_type": "markdown",
   "metadata": {},
   "source": [
    "## Obtain Data and Format"
   ]
  },
  {
   "cell_type": "markdown",
   "metadata": {},
   "source": [
    "Upper air data can be obtained using the siphon package, but for this example we will use some of MetPy's sample data.\n",
    "`as_file_obj=False), skiprows=5, usecols=[0, 1, 2, 3, 6, 7], names=col_names)` is necessary due to the formatting of the MetPy sample data. This formatting is not needed when using upper air data obtained via Siphon. Obtaining data with Siphon will be covered in a later notebook. "
   ]
  },
  {
   "cell_type": "code",
   "execution_count": 3,
   "metadata": {
    "collapsed": false,
    "jupyter": {
     "outputs_hidden": false
    }
   },
   "outputs": [],
   "source": [
    "col_names = ['pressure', 'height', 'temperature', 'dewpoint', 'direction', 'speed']\n",
    "\n",
    "sounding_data = pd.read_fwf(get_test_data('20110522_OUN_12Z.txt', as_file_obj=False),\n",
    "                 skiprows=7, usecols=[0, 1, 2, 3, 6, 7], names=col_names)\n",
    "\n",
    "# Drop any rows with all not a number (NaN) values for temperature, dewpoint, and winds\n",
    "sounding_data = sounding_data.dropna(subset=('temperature', 'dewpoint', 'direction', 'speed'),\n",
    "               how='all').reset_index(drop=True)"
   ]
  },
  {
   "cell_type": "markdown",
   "metadata": {},
   "source": [
    "## Assign Units"
   ]
  },
  {
   "cell_type": "markdown",
   "metadata": {},
   "source": [
    "We will pull the data out of the example dataset into individual variables and assign units. This is explained in further detain in the Simple Sounding notebook and in the [Metpy documentation](https://unidata.github.io/MetPy/latest/tutorials/unit_tutorial.html).\n"
   ]
  },
  {
   "cell_type": "code",
   "execution_count": 4,
   "metadata": {
    "collapsed": false,
    "jupyter": {
     "outputs_hidden": false
    }
   },
   "outputs": [],
   "source": [
    "pres = sounding_data['pressure'].values * units.hPa\n",
    "temp = sounding_data['temperature'].values * units.degC\n",
    "dewpoint = sounding_data['dewpoint'].values * units.degC\n",
    "wind_speed = sounding_data['speed'].values * units.knots\n",
    "wind_dir = sounding_data['direction'].values * units.degrees\n",
    "u, v = mpcalc.wind_components(wind_speed, wind_dir)\n",
    "height = sounding_data['height'].values * units.meter"
   ]
  },
  {
   "cell_type": "markdown",
   "metadata": {},
   "source": [
    "Compute the wind components\n",
    "\n"
   ]
  },
  {
   "cell_type": "code",
   "execution_count": 5,
   "metadata": {
    "collapsed": false,
    "jupyter": {
     "outputs_hidden": false
    }
   },
   "outputs": [],
   "source": [
    "u, v = mpcalc.wind_components(wind_speed, wind_dir)"
   ]
  },
  {
   "cell_type": "markdown",
   "metadata": {},
   "source": [
    "Compute common sounding index parameters\n",
    "\n"
   ]
  },
  {
   "cell_type": "code",
   "execution_count": 6,
   "metadata": {
    "collapsed": false,
    "jupyter": {
     "outputs_hidden": false
    }
   },
   "outputs": [],
   "source": [
    "ctotals = mpcalc.cross_totals(pres, temp, dewpoint)\n",
    "kindex = mpcalc.k_index(pres, temp, dewpoint)\n",
    "showalter = mpcalc.showalter_index(pres, temp, dewpoint)\n",
    "total_totals = mpcalc.total_totals_index(pres, temp, dewpoint)\n",
    "vert_totals = mpcalc.vertical_totals(pres, temp)"
   ]
  },
  {
   "cell_type": "markdown",
   "metadata": {},
   "source": [
    "Compture the parcel profile for a surface-based parcel\n",
    "\n"
   ]
  },
  {
   "cell_type": "code",
   "execution_count": 7,
   "metadata": {
    "collapsed": false,
    "jupyter": {
     "outputs_hidden": false
    }
   },
   "outputs": [],
   "source": [
    "prof = mpcalc.parcel_profile(pres, temp[0], dewpoint[0])"
   ]
  },
  {
   "cell_type": "markdown",
   "metadata": {},
   "source": [
    "Compute the corresponding Lifted Index (LI), Convective Available Potential Energy (CAPE), Convective Inhibition (CIN) values for a surface parcel\n",
    "\n"
   ]
  },
  {
   "cell_type": "code",
   "execution_count": 8,
   "metadata": {
    "collapsed": false,
    "jupyter": {
     "outputs_hidden": false
    }
   },
   "outputs": [],
   "source": [
    "lift_index = mpcalc.lifted_index(pres, temp, prof)\n",
    "cape, cin = mpcalc.cape_cin(pres, temp, dewpoint, prof)"
   ]
  },
  {
   "cell_type": "markdown",
   "metadata": {},
   "source": [
    "Determine the Lifted Condensation Level (LCL), Level of Free Convection (LFC), and Equilibrium Level (EL) for our surface parcel\n",
    "\n"
   ]
  },
  {
   "cell_type": "code",
   "execution_count": 9,
   "metadata": {
    "collapsed": false,
    "jupyter": {
     "outputs_hidden": false
    }
   },
   "outputs": [],
   "source": [
    "lclp, lclt = mpcalc.lcl(pres[0], temp[0], dewpoint[0])\n",
    "lfcp, _ = mpcalc.lfc(pres, temp, dewpoint)\n",
    "el_pressure, _ = mpcalc.el(pres, temp, dewpoint, prof)"
   ]
  },
  {
   "cell_type": "markdown",
   "metadata": {},
   "source": [
    "Compute the characteristics of a mean layer parcel (50-hPa depth)\n",
    "\n"
   ]
  },
  {
   "cell_type": "code",
   "execution_count": 10,
   "metadata": {
    "collapsed": false,
    "jupyter": {
     "outputs_hidden": false
    }
   },
   "outputs": [],
   "source": [
    "ml_t, ml_td = mpcalc.mixed_layer(pres, temp, dewpoint, depth=50 * units.hPa)\n",
    "ml_p, _, _ = mpcalc.mixed_parcel(pres, temp, dewpoint, depth=50 * units.hPa)\n",
    "mlcape, mlcin = mpcalc.mixed_layer_cape_cin(pres, temp, prof, depth=50 * units.hPa)"
   ]
  },
  {
   "cell_type": "markdown",
   "metadata": {},
   "source": [
    "Compute the characteristics of the most unstable parcel (50-hPa depth)\n",
    "\n"
   ]
  },
  {
   "cell_type": "code",
   "execution_count": 11,
   "metadata": {
    "collapsed": false,
    "jupyter": {
     "outputs_hidden": false
    }
   },
   "outputs": [],
   "source": [
    "mu_p, mu_t, mu_td, _ = mpcalc.most_unstable_parcel(pres, temp, dewpoint, depth=50 * units.hPa)\n",
    "mucape, mucin = mpcalc.most_unstable_cape_cin(pres, temp, dewpoint, depth=50 * units.hPa)"
   ]
  },
  {
   "cell_type": "markdown",
   "metadata": {},
   "source": [
    "Compute the Bunkers Storm Motion vector and use to calculate the critical angle\n",
    "\n"
   ]
  },
  {
   "cell_type": "code",
   "execution_count": 12,
   "metadata": {
    "collapsed": false,
    "jupyter": {
     "outputs_hidden": false
    }
   },
   "outputs": [],
   "source": [
    "(u_storm, v_storm), *_ = mpcalc.bunkers_storm_motion(pres, u, v, height)\n",
    "critical_angle = mpcalc.critical_angle(pres, u, v, height, u_storm, v_storm)"
   ]
  },
  {
   "cell_type": "markdown",
   "metadata": {},
   "source": [
    "Work on the calculations needed to compute the significant tornado parameter\n",
    "\n"
   ]
  },
  {
   "cell_type": "code",
   "execution_count": 13,
   "metadata": {
    "collapsed": false,
    "jupyter": {
     "outputs_hidden": false
    }
   },
   "outputs": [],
   "source": [
    "# Estimate height of LCL in meters from hydrostatic thickness\n",
    "new_p = np.append(pres[pres > lclp], lclp)\n",
    "new_t = np.append(temp[pres > lclp], lclt)\n",
    "lcl_height = mpcalc.thickness_hydrostatic(new_p, new_t)\n",
    "\n",
    "# Compute Surface-based CAPE\n",
    "sbcape, _ = mpcalc.surface_based_cape_cin(pres, temp, dewpoint)\n",
    "\n",
    "# Compute SRH, given a motion vector toward the NE at 9.9 m/s\n",
    "*_, total_helicity = mpcalc.storm_relative_helicity(height, u, v, depth=1 * units.km,\n",
    "                                                    storm_u=u_storm, storm_v=v_storm)\n",
    "\n",
    "# Copmute Bulk Shear components and then magnitude\n",
    "ubshr, vbshr = mpcalc.bulk_shear(pres, u, v, height=height, depth=6 * units.km)\n",
    "bshear = mpcalc.wind_speed(ubshr, vbshr)\n",
    "\n",
    "# Use all computed pieces to calculate the Significant Tornado parameter\n",
    "sig_tor = mpcalc.significant_tornado(sbcape, lcl_height,\n",
    "                                     total_helicity, bshear).to_base_units()"
   ]
  },
  {
   "cell_type": "markdown",
   "metadata": {},
   "source": [
    "Compute the supercell composite parameter, if possible\n",
    "\n"
   ]
  },
  {
   "cell_type": "code",
   "execution_count": 14,
   "metadata": {
    "collapsed": false,
    "jupyter": {
     "outputs_hidden": false
    }
   },
   "outputs": [],
   "source": [
    "# Determine the top and bottom of the effective layer using our own function\n",
    "hbot, htop = effective_layer(pres, temp, dewpoint, height, height_layer=True)\n",
    "\n",
    "# Perform the calculation of supercell composite if an effective layer exists\n",
    "if hbot:\n",
    "    esrh = mpcalc.storm_relative_helicity(height, u, v, depth=htop - hbot, bottom=hbot)\n",
    "    eubshr, evbshr = mpcalc.bulk_shear(pres, u, v, height=height, depth=htop - hbot, bottom=hbot)\n",
    "    ebshear = mpcalc.wind_speed(eubshr, evbshr)\n",
    "\n",
    "    super_comp = mpcalc.supercell_composite(mucape, esrh[0], ebshear)\n",
    "else:\n",
    "    super_comp = np.nan"
   ]
  },
  {
   "cell_type": "markdown",
   "metadata": {},
   "source": [
    "Print Important Sounding Parameters\n",
    "\n"
   ]
  },
  {
   "cell_type": "code",
   "execution_count": 15,
   "metadata": {
    "collapsed": false,
    "jupyter": {
     "outputs_hidden": false
    }
   },
   "outputs": [
    {
     "name": "stdout",
     "output_type": "stream",
     "text": [
      "Important Sounding Parameters for KOUN on 22 Mary 2011 12 UTC\n",
      "\n",
      "        CAPE: 3223.89 joule / kilogram\n",
      "         CIN: -96.26 joule / kilogram\n",
      "LCL Pressure: 949.09 hectopascal\n",
      "LFC Pressure: 735.99 hectopascal\n",
      " EL Pressure: 194.72 hectopascal\n",
      "\n",
      "   Lifted Index: [-6.96] delta_degree_Celsius\n",
      "        K-Index: 22.10 degree_Celsius\n",
      "Showalter Index: [-0.08] delta_degree_Celsius\n",
      "   Cross Totals: 17.10 delta_degree_Celsius\n",
      "   Total Totals: 50.20 delta_degree_Celsius\n",
      "Vertical Totals: 33.10 delta_degree_Celsius\n",
      "\n",
      "Mixed Layer - Lowest 50-hPa\n",
      "     ML Temp: 20.99 degree_Celsius\n",
      "     ML Dewp: 20.55 degree_Celsius\n",
      "     ML CAPE: 3254.17 joule / kilogram\n",
      "      ML CIN: -138.20 joule / kilogram\n",
      "\n",
      "Most Unstable - Lowest 50-hPa\n",
      "     MU Temp: 20.40 degree_Celsius\n",
      "     MU Dewp: 20.40 degree_Celsius\n",
      " MU Pressure: 925.00 hectopascal\n",
      "     MU CAPE: 3693.64 joule / kilogram\n",
      "      MU CIN: -60.50 joule / kilogram\n",
      "\n",
      "Bunkers Storm Motion Vector\n",
      "  u_storm: 21.85 knot\n",
      "  v_storm: 4.55 knot\n",
      "Critical Angle: 67.33 degree\n",
      "\n",
      "Storm Relative Helicity: 279.49 meter ** 2 / second ** 2\n",
      "Significant Tornado Parameter: [4.60] dimensionless\n",
      "Supercell Composite Parameter: [9.07] dimensionless\n"
     ]
    }
   ],
   "source": [
    "print('Important Sounding Parameters for KOUN on 22 Mary 2011 12 UTC')\n",
    "print()\n",
    "print(f'        CAPE: {cape:.2f}')\n",
    "print(f'         CIN: {cin:.2f}')\n",
    "print(f'LCL Pressure: {lclp:.2f}')\n",
    "print(f'LFC Pressure: {lfcp:.2f}')\n",
    "print(f' EL Pressure: {el_pressure:.2f}')\n",
    "print()\n",
    "print(f'   Lifted Index: {lift_index:.2f}')\n",
    "print(f'        K-Index: {kindex:.2f}')\n",
    "print(f'Showalter Index: {showalter:.2f}')\n",
    "print(f'   Cross Totals: {ctotals:.2f}')\n",
    "print(f'   Total Totals: {total_totals:.2f}')\n",
    "print(f'Vertical Totals: {vert_totals:.2f}')\n",
    "print()\n",
    "print('Mixed Layer - Lowest 50-hPa')\n",
    "print(f'     ML Temp: {ml_t:.2f}')\n",
    "print(f'     ML Dewp: {ml_td:.2f}')\n",
    "print(f'     ML CAPE: {mlcape:.2f}')\n",
    "print(f'      ML CIN: {mlcin:.2f}')\n",
    "print()\n",
    "print('Most Unstable - Lowest 50-hPa')\n",
    "print(f'     MU Temp: {mu_t:.2f}')\n",
    "print(f'     MU Dewp: {mu_td:.2f}')\n",
    "print(f' MU Pressure: {mu_p:.2f}')\n",
    "print(f'     MU CAPE: {mucape:.2f}')\n",
    "print(f'      MU CIN: {mucin:.2f}')\n",
    "print()\n",
    "print('Bunkers Storm Motion Vector')\n",
    "print(f'  u_storm: {u_storm:.2f}')\n",
    "print(f'  v_storm: {v_storm:.2f}')\n",
    "print(f'Critical Angle: {critical_angle:.2f}')\n",
    "print()\n",
    "print(f'Storm Relative Helicity: {total_helicity:.2f}')\n",
    "print(f'Significant Tornado Parameter: {sig_tor:.2f}')\n",
    "print(f'Supercell Composite Parameter: {super_comp:.2f}')"
   ]
  }
 ],
 "metadata": {
  "kernelspec": {
   "display_name": "Python 3 (ipykernel)",
   "language": "python",
   "name": "python3"
  },
  "language_info": {
   "codemirror_mode": {
    "name": "ipython",
    "version": 3
   },
   "file_extension": ".py",
   "mimetype": "text/x-python",
   "name": "python",
   "nbconvert_exporter": "python",
   "pygments_lexer": "ipython3",
   "version": "3.9.16"
  }
 },
 "nbformat": 4,
 "nbformat_minor": 4
}
