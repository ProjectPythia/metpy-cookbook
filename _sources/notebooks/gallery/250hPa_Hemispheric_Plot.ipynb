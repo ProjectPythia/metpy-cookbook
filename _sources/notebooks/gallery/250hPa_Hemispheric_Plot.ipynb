{
 "cells": [
  {
   "cell_type": "markdown",
   "metadata": {
    "cell_marker": "\"\"\"",
    "lines_to_next_cell": 0
   },
   "source": [
    "A 250-hPa Hemispheric Map using Python\n",
    "======================================\n",
    "\n",
    "This example plots a hemispheric plot of GFS 250-hPa Geopotential Heights and\n",
    "wind speed in knots."
   ]
  },
  {
   "cell_type": "code",
   "execution_count": null,
   "metadata": {},
   "outputs": [],
   "source": [
    "from datetime import datetime\n",
    "\n",
    "import cartopy.crs as ccrs\n",
    "import cartopy.feature as cfeature\n",
    "import cartopy.util as cutil\n",
    "import matplotlib.pyplot as plt\n",
    "import metpy.calc as mpcalc\n",
    "import numpy as np\n",
    "from siphon.catalog import TDSCatalog\n",
    "from siphon.ncss import NCSS\n",
    "from xarray.backends import NetCDF4DataStore\n",
    "import xarray as xr\n",
    "\n",
    "# Latest GFS Dataset\n",
    "cat = TDSCatalog('http://thredds.ucar.edu/thredds/catalog/grib/'\n",
    "                 'NCEP/GFS/Global_0p5deg/latest.xml')\n",
    "best_ds = list(cat.datasets.values())[0]\n",
    "ncss = NCSS(best_ds.access_urls['NetcdfSubset'])\n",
    "\n",
    "# Set the time to current\n",
    "now = datetime.utcnow()\n",
    "\n",
    "# Query for Latest GFS Run\n",
    "gfsdata_hght = ncss.query().time(now).accept('netcdf4')\n",
    "gfsdata_hght.variables('Geopotential_height_isobaric').add_lonlat()\n",
    "\n",
    "# Set the lat/lon box for the data you want to pull in.\n",
    "# lonlat_box(north_lat,south_lat,east_lon,west_lon)\n",
    "gfsdata_hght.lonlat_box(0, 360, 0, 90)\n",
    "\n",
    "# Set desired level 50000 = 50000 Pa = 500 hPa\n",
    "gfsdata_hght.vertical_level(25000)\n",
    "\n",
    "# Actually getting the data\n",
    "data_hght = ncss.get_data(gfsdata_hght)\n",
    "\n",
    "# Make into an xarray Dataset object\n",
    "ds_hght = xr.open_dataset(NetCDF4DataStore(data_hght)).metpy.parse_cf()\n",
    "\n",
    "# Query for Latest GFS Run\n",
    "gfsdata_wind = ncss.query().time(now).accept('netcdf4')\n",
    "gfsdata_wind.variables('u-component_of_wind_isobaric',\n",
    "                       'v-component_of_wind_isobaric').add_lonlat()\n",
    "\n",
    "# Set the lat/lon box for the data you want to pull in.\n",
    "# lonlat_box(north_lat,south_lat,east_lon,west_lon)\n",
    "gfsdata_wind.lonlat_box(0, 360, 0, 90)\n",
    "\n",
    "# Set desired level 50000 = 50000 Pa = 500 hPa\n",
    "gfsdata_wind.vertical_level(25000)\n",
    "\n",
    "# Actually getting the data\n",
    "data_wind = ncss.get_data(gfsdata_wind)\n",
    "\n",
    "# Make into an xarray Dataset object\n",
    "ds_wind = xr.open_dataset(NetCDF4DataStore(data_wind)).metpy.parse_cf()"
   ]
  },
  {
   "cell_type": "markdown",
   "metadata": {
    "cell_marker": "#################################################"
   },
   "source": [
    "The next cell will take the downloaded data and parse it to different variables\n",
    "for use later on. Add a cyclic point using the cartopy utility add_cyclic_point\n",
    "to the longitudes (the cyclic dimension) as well as any data that is being\n",
    "contoured or filled."
   ]
  },
  {
   "cell_type": "code",
   "execution_count": null,
   "metadata": {},
   "outputs": [],
   "source": [
    "dtime = ds_hght.Geopotential_height_isobaric.dims[0]\n",
    "lat = ds_hght.lat.values\n",
    "lon = ds_hght.lon.values\n",
    "\n",
    "# Converting times using the num2date function available through netCDF4\n",
    "vtimes = ds_hght[dtime].values.astype('datetime64[ms]').astype('O')\n",
    "\n",
    "# Smooth the 250-hPa heights using a gaussian filter from scipy.ndimage\n",
    "hgt = ds_hght.Geopotential_height_isobaric.squeeze()\n",
    "hgt_250, lon = cutil.add_cyclic_point(hgt, coord=lon)\n",
    "\n",
    "Z_250 = mpcalc.smooth_n_point(hgt_250, 9, 2)\n",
    "\n",
    "# Calculate wind speed from u and v components, add cyclic point,\n",
    "# and smooth slightly\n",
    "u250 = ds_wind['u-component_of_wind_isobaric'].squeeze()\n",
    "v250 = ds_wind['v-component_of_wind_isobaric'].squeeze()\n",
    "\n",
    "wspd250 = mpcalc.wind_speed(u250, v250).metpy.convert_units('knots')\n",
    "wspd250 = cutil.add_cyclic_point(wspd250)\n",
    "\n",
    "smooth_wspd250 = mpcalc.smooth_n_point(wspd250, 9, 2)"
   ]
  },
  {
   "cell_type": "markdown",
   "metadata": {
    "cell_marker": "#################################################",
    "lines_to_next_cell": 0
   },
   "source": [
    "The next cell sets up the geographic details for the plot that we are going to do later.\n",
    "This is done using the Cartopy package. We will also bring in some geographic data to\n",
    "geo-reference the image for us."
   ]
  },
  {
   "cell_type": "code",
   "execution_count": null,
   "metadata": {},
   "outputs": [],
   "source": [
    "datacrs = ccrs.PlateCarree()\n",
    "plotcrs = ccrs.NorthPolarStereo(central_longitude=-100.0)\n",
    "\n",
    "# Make a grid of lat/lon values to use for plotting.\n",
    "lons, lats = np.meshgrid(lon, lat)\n",
    "\n",
    "fig = plt.figure(1, figsize=(12., 15.))\n",
    "ax = plt.subplot(111, projection=plotcrs)\n",
    "\n",
    "# Set some titles for the plots\n",
    "ax.set_title('250-hPa Geopotential Heights (m)', loc='left')\n",
    "ax.set_title(f'VALID: {vtimes[0]}', loc='right')\n",
    "\n",
    "# Set the extent of the image for the NH and add\n",
    "#   ax.set_extent([west long, east long, south lat, north lat])\n",
    "ax.set_extent([-180, 180, 10, 90], ccrs.PlateCarree())\n",
    "ax.add_feature(cfeature.COASTLINE.with_scale('50m'), edgecolor='black',\n",
    "               linewidth=0.5)\n",
    "ax.add_feature(cfeature.STATES.with_scale('50m'), linewidth=0.5)\n",
    "\n",
    "# Add geopotential height contours every 120 m\n",
    "clev250 = np.arange(9000, 12000, 120)\n",
    "cs = ax.contour(lons, lats, Z_250, clev250, colors='k',\n",
    "                linewidths=1.0, linestyles='solid', transform=datacrs)\n",
    "plt.clabel(cs, fontsize=8, inline=1, inline_spacing=10, fmt='%i',\n",
    "           rightside_up=True, use_clabeltext=True)\n",
    "\n",
    "# Add colorfilled wind speed in knots every 20 kts\n",
    "clevsped250 = np.arange(50, 200, 20)\n",
    "cmap = plt.cm.get_cmap('BuPu')\n",
    "cf = ax.contourf(lons, lats, smooth_wspd250, clevsped250, cmap=cmap,\n",
    "                 extend='max', transform=datacrs)\n",
    "cbar = plt.colorbar(cf, orientation='horizontal', pad=0, aspect=50,\n",
    "                    extendrect=True)"
   ]
  },
  {
   "cell_type": "code",
   "execution_count": null,
   "metadata": {},
   "outputs": [],
   "source": []
  }
 ],
 "metadata": {
  "jupytext": {
   "cell_metadata_filter": "-all",
   "main_language": "python",
   "notebook_metadata_filter": "-all"
  },
  "kernelspec": {
   "display_name": "Python 3",
   "language": "python",
   "name": "python3"
  },
  "language_info": {
   "codemirror_mode": {
    "name": "ipython",
    "version": 3
   },
   "file_extension": ".py",
   "mimetype": "text/x-python",
   "name": "python",
   "nbconvert_exporter": "python",
   "pygments_lexer": "ipython3",
   "version": "3.8.6"
  }
 },
 "nbformat": 4,
 "nbformat_minor": 4
}
