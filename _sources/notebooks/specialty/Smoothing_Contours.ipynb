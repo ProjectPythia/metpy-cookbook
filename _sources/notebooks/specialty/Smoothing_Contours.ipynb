{
 "cells": [
  {
   "cell_type": "markdown",
   "metadata": {
    "cell_marker": "\"\"\""
   },
   "source": [
    "Smoothing Contours\n",
    "==================\n",
    "\n",
    "Demonstrate how to smooth contour values from a higher resolution\n",
    "model field.\n",
    "\n",
    "By: Kevin Goebbert\n",
    "\n",
    "Date: 13 April 2017"
   ]
  },
  {
   "cell_type": "markdown",
   "metadata": {
    "cell_marker": "##################################",
    "lines_to_next_cell": 0
   },
   "source": [
    "Do the needed imports"
   ]
  },
  {
   "cell_type": "code",
   "execution_count": null,
   "metadata": {},
   "outputs": [],
   "source": [
    "from datetime import datetime\n",
    "\n",
    "import cartopy.crs as ccrs\n",
    "import cartopy.feature as cfeature\n",
    "import matplotlib.pyplot as plt\n",
    "import metpy.calc as mpcalc\n",
    "import numpy as np\n",
    "from metpy.units import units\n",
    "from siphon.catalog import TDSCatalog\n",
    "from xarray.backends import NetCDF4DataStore\n",
    "import xarray as xr"
   ]
  },
  {
   "cell_type": "markdown",
   "metadata": {
    "cell_marker": "##################################",
    "lines_to_next_cell": 0
   },
   "source": [
    "Set up netCDF Subset Service link"
   ]
  },
  {
   "cell_type": "code",
   "execution_count": null,
   "metadata": {},
   "outputs": [],
   "source": [
    "# Specify our date/time of product desired\n",
    "dt = datetime.utcnow()\n",
    "\n",
    "# Construct the URL for our THREDDS Data Server Catalog,\n",
    "# and access our desired dataset within via NCSS\n",
    "cat = TDSCatalog('https://thredds.ucar.edu/thredds/catalog/grib/'\n",
    "                 'NCEP/NAM/CONUS_12km/latest.xml')\n",
    "ncss = cat.datasets[0].subset()\n",
    "\n",
    "# Create our NCSS query with desired specifications\n",
    "query = ncss.query()\n",
    "query.time(dt)\n",
    "query.add_lonlat()\n",
    "query.variables('Geopotential_height_isobaric',\n",
    "                'u-component_of_wind_isobaric',\n",
    "                'v-component_of_wind_isobaric')\n",
    "\n",
    "# Obtain the data we've queried for\n",
    "data = ncss.get_data(query)\n",
    "\n",
    "# Make into an xarray Dataset object\n",
    "ds = xr.open_dataset(NetCDF4DataStore(data)).metpy.parse_cf()"
   ]
  },
  {
   "cell_type": "markdown",
   "metadata": {
    "cell_marker": "##################################"
   },
   "source": [
    "Pull apart the data"
   ]
  },
  {
   "cell_type": "code",
   "execution_count": null,
   "metadata": {},
   "outputs": [],
   "source": [
    "# Get dimension names to pull appropriate variables\n",
    "# dtime = ds.Geopotential_height_isobaric.dims[0]\n",
    "# dlev = ds.Geopotential_height_isobaric.dims[1]\n",
    "# dlat = ds.Geopotential_height_isobaric.dims[2]\n",
    "# dlon = ds.Geopotential_height_isobaric.dims[3]\n",
    "\n",
    "# Get lat and lon data, as well as time data and metadata\n",
    "lats = ds.lat\n",
    "lons = ds.lon\n",
    "\n",
    "# Need 2D lat/lons for plotting, do so if necessary\n",
    "if lats.ndim < 2:\n",
    "    lons, lats = np.meshgrid(lons, lats)\n",
    "\n",
    "# Determine the level of 500 hPa\n",
    "lev_500 = 500 * units.hPa\n",
    "\n",
    "# Create more useable times for output\n",
    "times = ds.Geopotential_height_isobaric.metpy.time.squeeze()\n",
    "vtimes = times.values.astype('datetime64[ms]').astype('O')\n",
    "\n",
    "# Pull out the 500 hPa Heights\n",
    "hght_500 = ds.Geopotential_height_isobaric.metpy.sel(\n",
    "    vertical=lev_500).squeeze()\n",
    "uwnd_500 = ds['u-component_of_wind_isobaric'].metpy.sel(\n",
    "    vertical=lev_500).squeeze()\n",
    "vwnd_500 = ds['v-component_of_wind_isobaric'].metpy.sel(\n",
    "    vertical=lev_500).squeeze()\n",
    "\n",
    "# Calculate the magnitude of the wind speed in kts\n",
    "sped = mpcalc.wind_speed(uwnd_500, vwnd_500).metpy.convert_units('knots')"
   ]
  },
  {
   "cell_type": "markdown",
   "metadata": {
    "cell_marker": "##################################",
    "lines_to_next_cell": 0
   },
   "source": [
    "Set up the projection for LCC"
   ]
  },
  {
   "cell_type": "code",
   "execution_count": null,
   "metadata": {},
   "outputs": [],
   "source": [
    "plotcrs = ccrs.LambertConformal(central_longitude=-100.0,\n",
    "                                central_latitude=45.0)\n",
    "datacrs = ccrs.PlateCarree(central_longitude=0.)"
   ]
  },
  {
   "cell_type": "markdown",
   "metadata": {
    "cell_marker": "##################################"
   },
   "source": [
    "Subset and smooth"
   ]
  },
  {
   "cell_type": "code",
   "execution_count": null,
   "metadata": {},
   "outputs": [],
   "source": [
    "# Smooth the 500-hPa geopotential height field\n",
    "# Be sure to only smooth the 2D field\n",
    "Z_500 = mpcalc.smooth_gaussian(hght_500, 50)"
   ]
  },
  {
   "cell_type": "markdown",
   "metadata": {
    "cell_marker": "##################################"
   },
   "source": [
    "Plot the contours"
   ]
  },
  {
   "cell_type": "code",
   "execution_count": null,
   "metadata": {},
   "outputs": [],
   "source": [
    "# Start plot with new figure and axis\n",
    "fig = plt.figure(figsize=(17., 11.))\n",
    "ax = plt.subplot(1, 1, 1, projection=plotcrs)\n",
    "\n",
    "# Add some titles to make the plot readable by someone else\n",
    "plt.title('500-hPa Geo Heights (m; black), Smoothed 500-hPa Geo. '\n",
    "          'Heights (m; red)', loc='left')\n",
    "plt.title(f'VALID: {vtimes}', loc='right')\n",
    "\n",
    "# Set GAREA and add map features\n",
    "ax.set_extent([-125., -67., 22., 52.], ccrs.PlateCarree())\n",
    "ax.coastlines('50m', edgecolor='black', linewidth=0.75)\n",
    "ax.add_feature(cfeature.STATES, linewidth=0.5)\n",
    "\n",
    "# Set the CINT\n",
    "clev500 = np.arange(5100, 6000, 60)\n",
    "\n",
    "# Plot smoothed 500-hPa contours\n",
    "cs2 = ax.contour(lons, lats, Z_500, clev500, colors='black',\n",
    "                 linewidths=3, linestyles='solid', transform=datacrs)\n",
    "c2 = plt.clabel(cs2, fontsize=12, colors='black', inline=1, inline_spacing=8,\n",
    "                fmt='%i', rightside_up=True, use_clabeltext=True)\n",
    "\n",
    "# Contour the 500 hPa heights with labels\n",
    "cs = ax.contour(lons, lats, hght_500, clev500, colors='red',\n",
    "                linewidths=2.5, linestyles='solid', alpha=0.6,\n",
    "                transform=datacrs)\n",
    "cl = plt.clabel(cs, fontsize=12, colors='red', inline=1, inline_spacing=8,\n",
    "                fmt='%i', rightside_up=True, use_clabeltext=True)"
   ]
  },
  {
   "cell_type": "code",
   "execution_count": null,
   "metadata": {},
   "outputs": [],
   "source": []
  }
 ],
 "metadata": {
  "jupytext": {
   "cell_metadata_filter": "-all",
   "main_language": "python",
   "notebook_metadata_filter": "-all"
  },
  "kernelspec": {
   "display_name": "Python 3 (ipykernel)",
   "language": "python",
   "name": "python3"
  },
  "language_info": {
   "codemirror_mode": {
    "name": "ipython",
    "version": 3
   },
   "file_extension": ".py",
   "mimetype": "text/x-python",
   "name": "python",
   "nbconvert_exporter": "python",
   "pygments_lexer": "ipython3",
   "version": "3.11.4"
  }
 },
 "nbformat": 4,
 "nbformat_minor": 4
}
