{
 "cells": [
  {
   "cell_type": "markdown",
   "metadata": {
    "cell_marker": "\"\"\""
   },
   "source": [
    "Geostrophic and Ageostrophic Wind\n",
    "=================================\n",
    "\n",
    "Plot a 1000-hPa map calculating the geostrophic from MetPy and finding the\n",
    "ageostrophic wind from the total wind and the geostrophic wind.\n",
    "\n",
    "This uses the geostrophic wind calculation from `metpy.calc` to find\n",
    "the geostrophic wind, then performs the simple subtraction to find the ageostrophic\n",
    "wind. Currently, this needs an extra helper function to calculate\n",
    "the distance between lat/lon grid points.\n",
    "\n",
    "Additionally, we utilize the `ndimage.zoom` method for smoothing the 1000-hPa\n",
    "height contours without smoothing the data."
   ]
  },
  {
   "cell_type": "markdown",
   "metadata": {
    "cell_marker": "########################################",
    "lines_to_next_cell": 0
   },
   "source": [
    "Imports"
   ]
  },
  {
   "cell_type": "code",
   "execution_count": null,
   "metadata": {},
   "outputs": [],
   "source": [
    "from datetime import datetime, timedelta\n",
    "\n",
    "import cartopy.crs as ccrs\n",
    "import cartopy.feature as cfeature\n",
    "import matplotlib.pyplot as plt\n",
    "import metpy.calc as mpcalc\n",
    "import numpy as np\n",
    "from scipy import ndimage\n",
    "from siphon.catalog import TDSCatalog\n",
    "from xarray.backends import NetCDF4DataStore\n",
    "import xarray as xr"
   ]
  },
  {
   "cell_type": "markdown",
   "metadata": {
    "cell_marker": "########################################"
   },
   "source": [
    "Set up access to the data"
   ]
  },
  {
   "cell_type": "code",
   "execution_count": null,
   "metadata": {},
   "outputs": [],
   "source": [
    "dt = datetime(2016, 8, 22, 18)\n",
    "forecast_hour = 3\n",
    "h = timedelta(hours=forecast_hour)\n",
    "\n",
    "# Assemble our URL to the THREDDS Data Server catalog,\n",
    "# and access our desired dataset within via NCSS\n",
    "base_url = 'https://www.ncei.noaa.gov/thredds/model-gfs-g4-anl-files-old/'\n",
    "cat = TDSCatalog(f'{base_url}{dt:%Y%m}/{dt:%Y%m%d}/catalog.xml')\n",
    "ncss = cat.datasets[f'gfsanl_4_{dt:%Y%m%d}_{dt:%H}'\n",
    "                    f'00_00{forecast_hour}.grb2'].subset()\n",
    "\n",
    "# Create NCSS query for our desired time, region, and data variables\n",
    "query = ncss.query()\n",
    "\n",
    "query.lonlat_box(north=50, south=30, east=-80, west=-115)\n",
    "query.time(dt + h)\n",
    "query.variables('Geopotential_height_isobaric',\n",
    "                'u-component_of_wind_isobaric',\n",
    "                'v-component_of_wind_isobaric')\n",
    "query.vertical_level(100000)\n",
    "\n",
    "data = ncss.get_data(query)\n",
    "\n",
    "ds = xr.open_dataset(NetCDF4DataStore(data)).metpy.parse_cf()"
   ]
  },
  {
   "cell_type": "code",
   "execution_count": null,
   "metadata": {},
   "outputs": [],
   "source": [
    "# Pull out variables you want to use\n",
    "height = ds.Geopotential_height_isobaric.squeeze()\n",
    "u_wind = ds['u-component_of_wind_isobaric'].squeeze().metpy.quantify()\n",
    "v_wind = ds['v-component_of_wind_isobaric'].squeeze().metpy.quantify()\n",
    "\n",
    "vtime = height.time.values.squeeze().astype('datetime64[ms]').astype('O')\n",
    "\n",
    "lat = ds.lat\n",
    "lon = ds.lon"
   ]
  },
  {
   "cell_type": "code",
   "execution_count": null,
   "metadata": {},
   "outputs": [],
   "source": [
    "# Combine 1D latitude and longitudes into a 2D grid of locations\n",
    "lon_2d, lat_2d = np.meshgrid(lon, lat)\n",
    "\n",
    "# Smooth height data\n",
    "height = mpcalc.smooth_n_point(height, 9, 3)\n",
    "\n",
    "# Compute the geostrophic wind\n",
    "geo_wind_u, geo_wind_v = mpcalc.geostrophic_wind(height)\n",
    "\n",
    "# Calculate ageostrophic wind components\n",
    "ageo_wind_u = u_wind - geo_wind_u\n",
    "ageo_wind_v = v_wind - geo_wind_v"
   ]
  },
  {
   "cell_type": "code",
   "execution_count": null,
   "metadata": {},
   "outputs": [],
   "source": [
    "# Create new figure\n",
    "fig = plt.figure(figsize=(15, 10), facecolor='black')\n",
    "\n",
    "# Add the map and set the extent\n",
    "ax = plt.axes(projection=ccrs.PlateCarree())\n",
    "ax.set_extent([-105., -93., 35., 43.])\n",
    "ax.patch.set_fill(False)\n",
    "\n",
    "# Add state boundaries to plot\n",
    "ax.add_feature(cfeature.STATES, edgecolor='white', linewidth=2)\n",
    "\n",
    "# Contour the heights every 10 m\n",
    "contours = np.arange(10, 200, 10)\n",
    "# Because we have a very local graphics area, the contours have joints\n",
    "# to smooth those out we can use `ndimage.zoom`\n",
    "zoom_500 = mpcalc.zoom_xarray(height, 5)\n",
    "c = ax.contour(zoom_500.lon, zoom_500.lat, zoom_500, levels=contours,\n",
    "               colors='red', linewidths=4)\n",
    "ax.clabel(c, fontsize=12, inline=1, inline_spacing=3, fmt='%i')\n",
    "\n",
    "# Set up parameters for quiver plot. The slices below are used to\n",
    "# subset the data (here taking every 4th point in x and y). The\n",
    "# quiver_kwargs are parameters to control the appearance of the\n",
    "# quiver so that they stay consistent between the calls.\n",
    "quiver_slices = (slice(None, None, 2), slice(None, None, 2))\n",
    "quiver_kwargs = {'headlength': 4, 'headwidth': 3, 'angles': 'uv',\n",
    "                 'scale_units': 'xy', 'scale': 20}\n",
    "\n",
    "# Plot the wind vectors\n",
    "wind = ax.quiver(lon_2d[quiver_slices], lat_2d[quiver_slices],\n",
    "                 u_wind[quiver_slices], v_wind[quiver_slices],\n",
    "                 color='blue', **quiver_kwargs)\n",
    "geo = ax.quiver(lon_2d[quiver_slices], lat_2d[quiver_slices],\n",
    "                geo_wind_u[quiver_slices], geo_wind_v[quiver_slices],\n",
    "                color='darkorchid', **quiver_kwargs)\n",
    "ageo = ax.quiver(lon_2d[quiver_slices], lat_2d[quiver_slices],\n",
    "                 ageo_wind_u[quiver_slices], ageo_wind_v[quiver_slices],\n",
    "                 color='lime', **quiver_kwargs)\n",
    "\n",
    "# Add a title to the plot\n",
    "plt.title('1000mb Geopotential Heights(m), Wind(blue), '\n",
    "          'Geostrophic Wind(purple), and \\n Ageostrophic Wind(green) '\n",
    "          f'for {vtime:%d %B %Y %H:%MZ}', color='white', size=14)"
   ]
  },
  {
   "cell_type": "code",
   "execution_count": null,
   "metadata": {},
   "outputs": [],
   "source": []
  }
 ],
 "metadata": {
  "jupytext": {
   "cell_metadata_filter": "-all",
   "main_language": "python",
   "notebook_metadata_filter": "-all"
  },
  "kernelspec": {
   "display_name": "Python 3 (ipykernel)",
   "language": "python",
   "name": "python3"
  },
  "language_info": {
   "codemirror_mode": {
    "name": "ipython",
    "version": 3
   },
   "file_extension": ".py",
   "mimetype": "text/x-python",
   "name": "python",
   "nbconvert_exporter": "python",
   "pygments_lexer": "ipython3",
   "version": "3.11.4"
  }
 },
 "nbformat": 4,
 "nbformat_minor": 4
}
