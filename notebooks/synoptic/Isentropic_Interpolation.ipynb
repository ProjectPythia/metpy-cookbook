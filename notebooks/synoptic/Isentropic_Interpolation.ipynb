{
 "cells": [
  {
   "cell_type": "markdown",
   "metadata": {
    "cell_marker": "\"\"\""
   },
   "source": [
    "Isentropic Analysis\n",
    "===================\n",
    "\n",
    "The MetPy function `metpy.calc.isentropic_interpolation` allows for isentropic analysis from\n",
    "model analysis data in isobaric coordinates."
   ]
  },
  {
   "cell_type": "code",
   "execution_count": null,
   "metadata": {},
   "outputs": [],
   "source": [
    "from datetime import datetime, timedelta\n",
    "\n",
    "import cartopy.crs as ccrs\n",
    "import cartopy.feature as cfeature\n",
    "import matplotlib.pyplot as plt\n",
    "import metpy.calc as mpcalc\n",
    "from metpy.units import units\n",
    "import numpy as np\n",
    "from siphon.catalog import TDSCatalog\n",
    "from xarray.backends import NetCDF4DataStore\n",
    "import xarray as xr"
   ]
  },
  {
   "cell_type": "markdown",
   "metadata": {
    "cell_marker": "###########################"
   },
   "source": [
    "Getting the data\n",
    "\n",
    "In this example, the latest GFS forecasts data from the National Centers for\n",
    "Environmental Information (https://nomads.ncdc.noaa.gov) will be used, courtesy of the\n",
    "Univeristy Corporation for Atmospheric Research Thredds Data Server."
   ]
  },
  {
   "cell_type": "code",
   "execution_count": null,
   "metadata": {},
   "outputs": [],
   "source": [
    "# Latest GFS Dataset\n",
    "cat = TDSCatalog('http://thredds.ucar.edu/thredds/catalog/grib/'\n",
    "                 'NCEP/GFS/Global_0p5deg/catalog.xml')\n",
    "ncss = cat.latest.subset()\n",
    "\n",
    "# Find the start of the model run and define time range\n",
    "start_time = ncss.metadata.time_span['begin']\n",
    "start = datetime.strptime(start_time, '%Y-%m-%dT%H:%M:%Sz')\n",
    "end = start + timedelta(hours=9)\n",
    "\n",
    "# Query for Latest GFS Run\n",
    "gfsdata = ncss.query().time_range(start, end).accept('netcdf4')\n",
    "\n",
    "gfsdata.variables('Temperature_isobaric',\n",
    "                  'u-component_of_wind_isobaric',\n",
    "                  'v-component_of_wind_isobaric',\n",
    "                  'Relative_humidity_isobaric').add_lonlat()\n",
    "\n",
    "# Set the lat/lon box for the data you want to pull in.\n",
    "# lonlat_box(north_lat,south_lat,east_lon,west_lon)\n",
    "gfsdata.lonlat_box(-150, -50, 15, 65)\n",
    "\n",
    "# Actually getting the data\n",
    "data = ncss.get_data(gfsdata)\n",
    "\n",
    "# Make into an xarray Dataset object\n",
    "ds = xr.open_dataset(NetCDF4DataStore(data)).metpy.parse_cf()\n",
    "\n",
    "dlev_hght = ds.Temperature_isobaric.dims[1]\n",
    "dlev_uwnd = ds['u-component_of_wind_isobaric'].dims[1]\n",
    "lat = ds.latitude\n",
    "lon = ds.longitude\n",
    "\n",
    "lev_hght = ds[dlev_hght]\n",
    "lev_uwnd = ds[dlev_uwnd]\n",
    "\n",
    "# Due to a different number of vertical levels find where they are common\n",
    "_, _, common_ind = np.intersect1d(lev_uwnd, lev_hght, return_indices=True)\n",
    "\n",
    "common_levels = lev_hght[common_ind].metpy.unit_array\n",
    "times = ds.Temperature_isobaric.metpy.time\n",
    "vtimes = times.values.astype('datetime64[ms]').astype('O')\n",
    "temps = ds.Temperature_isobaric.metpy.unit_array\n",
    "uwnd = ds['u-component_of_wind_isobaric'].metpy.unit_array\n",
    "vwnd = ds['v-component_of_wind_isobaric'].metpy.unit_array\n",
    "relh = ds.Relative_humidity_isobaric.metpy.unit_array"
   ]
  },
  {
   "cell_type": "markdown",
   "metadata": {
    "cell_marker": "########################"
   },
   "source": [
    "To properly interpolate to isentropic coordinates, the function must know the desired output\n",
    "isentropic levels. An array with these levels will be created below."
   ]
  },
  {
   "cell_type": "code",
   "execution_count": null,
   "metadata": {},
   "outputs": [],
   "source": [
    "isentlevs = np.arange(310, 316, 5) * units.kelvin"
   ]
  },
  {
   "cell_type": "markdown",
   "metadata": {
    "cell_marker": "########################"
   },
   "source": [
    "Conversion to Isentropic Coordinates\n",
    "\n",
    "Once model data in isobaric coordinates has been pulled and the desired isentropic levels\n",
    "created, the conversion to isentropic coordinates can begin. Data will be passed to the\n",
    "function as below. The function requires that isentropic levels, isobaric levels, and\n",
    "temperature be input. Any additional inputs (in this case relative humidity, u, and v wind\n",
    "components) will be linearly interpolated to isentropic space."
   ]
  },
  {
   "cell_type": "code",
   "execution_count": null,
   "metadata": {},
   "outputs": [],
   "source": [
    "isent_anal = mpcalc.isentropic_interpolation(isentlevs,\n",
    "                                             common_levels,\n",
    "                                             temps[:, common_ind, :, :],\n",
    "                                             relh,\n",
    "                                             uwnd,\n",
    "                                             vwnd,\n",
    "                                             vertical_dim=1)"
   ]
  },
  {
   "cell_type": "markdown",
   "metadata": {
    "cell_marker": "####################"
   },
   "source": [
    "The output is a list, so now we will separate the variables to different names before\n",
    "plotting."
   ]
  },
  {
   "cell_type": "code",
   "execution_count": null,
   "metadata": {},
   "outputs": [],
   "source": [
    "isentprs, isentrh, isentu, isentv = isent_anal"
   ]
  },
  {
   "cell_type": "markdown",
   "metadata": {
    "cell_marker": "##########################"
   },
   "source": [
    "A quick look at the shape of these variables will show that the data is now in isentropic\n",
    "coordinates, with the number of vertical levels as specified above."
   ]
  },
  {
   "cell_type": "code",
   "execution_count": null,
   "metadata": {},
   "outputs": [],
   "source": [
    "print(isentprs.shape)\n",
    "print(isentrh.shape)\n",
    "print(isentu.shape)\n",
    "print(isentv.shape)"
   ]
  },
  {
   "cell_type": "markdown",
   "metadata": {
    "cell_marker": "####################"
   },
   "source": [
    "**Plotting the Isentropic Analysis**"
   ]
  },
  {
   "cell_type": "markdown",
   "metadata": {
    "cell_marker": "#####################",
    "lines_to_next_cell": 0
   },
   "source": [
    "Set up our projection"
   ]
  },
  {
   "cell_type": "code",
   "execution_count": null,
   "metadata": {},
   "outputs": [],
   "source": [
    "crs = ccrs.LambertConformal(central_longitude=-100.0, central_latitude=45.0)\n",
    "\n",
    "# Set up our array of latitude and longitude values and transform to\n",
    "# the desired projection.\n",
    "clons, clats = np.meshgrid(lon, lat)\n",
    "\n",
    "# Get data to plot state and province boundaries\n",
    "states_provinces = cfeature.NaturalEarthFeature(\n",
    "    category='cultural',\n",
    "    name='admin_1_states_provinces_lakes',\n",
    "    scale='50m',\n",
    "    facecolor='none')\n",
    "\n",
    "# Choose Isentropic Level index value\n",
    "level = 0 # [310, 315]\n",
    "\n",
    "# Choose forecast hour index value\n",
    "FH = 0 # [0, 3, 6, 9]\n",
    "\n",
    "# Start Figure\n",
    "fig = plt.figure(1, figsize=(14., 12.))\n",
    "ax = plt.subplot(111, projection=crs)\n",
    "\n",
    "# Set plot extent\n",
    "ax.set_extent((-121., -74., 25., 50.), crs=ccrs.PlateCarree())\n",
    "ax.coastlines('50m', edgecolor='black', linewidth=0.75)\n",
    "ax.add_feature(states_provinces, edgecolor='black', linewidth=0.5)\n",
    "\n",
    "# Plot the 300K surface\n",
    "clevisent = np.arange(0, 1000, 25)\n",
    "cs = ax.contour(clons, clats,\n",
    "                mpcalc.smooth_n_point(isentprs[FH, level, :, :], 9, 4),\n",
    "                clevisent,\n",
    "                transform=ccrs.PlateCarree(),\n",
    "                colors='k', linewidths=1.5, linestyles='solid')\n",
    "plt.clabel(cs, fontsize=10, inline=1, inline_spacing=7,\n",
    "           fmt='%i', rightside_up=True, use_clabeltext=True)\n",
    "\n",
    "cf = ax.contourf(clons, clats,\n",
    "                 mpcalc.smooth_n_point(isentrh[FH, level, :, :], 9, 4),\n",
    "                 np.arange(50, 101, 1),\n",
    "                 transform=ccrs.PlateCarree(),\n",
    "                 cmap=plt.cm.YlGn)\n",
    "plt.colorbar(cf, orientation='horizontal', aspect=65, pad=0, extendrect='True')\n",
    "\n",
    "wind_slice = (FH, level, slice(None, None, 5), slice(None, None, 5))\n",
    "ax.barbs(clons[wind_slice[2:]], clats[wind_slice[2:]],\n",
    "         isentu[wind_slice].m, isentv[wind_slice].m, length=6,\n",
    "         transform=ccrs.PlateCarree())\n",
    "\n",
    "# Make some titles\n",
    "plt.title(f'{isentlevs[level].m:.0f} K Isentropic Level', loc='left')\n",
    "plt.title(f'VALID: {vtimes[FH]} UTC', loc='right')"
   ]
  },
  {
   "cell_type": "code",
   "execution_count": null,
   "metadata": {},
   "outputs": [],
   "source": []
  }
 ],
 "metadata": {
  "jupytext": {
   "cell_metadata_filter": "-all",
   "main_language": "python",
   "notebook_metadata_filter": "-all"
  },
  "kernelspec": {
   "display_name": "Python 3 (ipykernel)",
   "language": "python",
   "name": "python3"
  },
  "language_info": {
   "codemirror_mode": {
    "name": "ipython",
    "version": 3
   },
   "file_extension": ".py",
   "mimetype": "text/x-python",
   "name": "python",
   "nbconvert_exporter": "python",
   "pygments_lexer": "ipython3",
   "version": "3.11.4"
  }
 },
 "nbformat": 4,
 "nbformat_minor": 4
}
