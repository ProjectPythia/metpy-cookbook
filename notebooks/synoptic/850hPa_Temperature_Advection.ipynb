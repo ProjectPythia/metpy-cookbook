{
 "cells": [
  {
   "cell_type": "markdown",
   "metadata": {
    "cell_marker": "\"\"\""
   },
   "source": [
    "850 hPa Temperature Advection\n",
    "=============================\n",
    "\n",
    "Plot an 850 hPa map with calculating advection using MetPy.\n",
    "\n",
    "Beyond just plotting 850-hPa level data, this uses calculations from `metpy.calc` to find\n",
    "the temperature advection. Currently, this needs an extra helper function to calculate\n",
    "the distance between lat/lon grid points."
   ]
  },
  {
   "cell_type": "markdown",
   "metadata": {
    "cell_marker": "###############################",
    "lines_to_next_cell": 0
   },
   "source": [
    "Imports"
   ]
  },
  {
   "cell_type": "code",
   "execution_count": null,
   "metadata": {},
   "outputs": [],
   "source": [
    "from datetime import datetime\n",
    "\n",
    "import cartopy.crs as ccrs\n",
    "import cartopy.feature as cfeature\n",
    "import matplotlib.pyplot as plt\n",
    "import metpy.calc as mpcalc\n",
    "import numpy as np\n",
    "from metpy.units import units\n",
    "from siphon.catalog import TDSCatalog\n",
    "from xarray.backends import NetCDF4DataStore\n",
    "import xarray as xr"
   ]
  },
  {
   "cell_type": "markdown",
   "metadata": {
    "cell_marker": "###############################################"
   },
   "source": [
    "Create NCSS object to access the NetcdfSubset\n",
    "---------------------------------------------\n",
    "Data from NCEI GFS 0.5 deg Analysis Archive"
   ]
  },
  {
   "cell_type": "code",
   "execution_count": null,
   "metadata": {},
   "outputs": [],
   "source": [
    "dt = datetime(2017, 4, 5, 12)\n",
    "\n",
    "# Assemble our URL to the THREDDS Data Server catalog,\n",
    "# and access our desired dataset within via NCSS\n",
    "base_url = 'https://www.ncei.noaa.gov/thredds/model-gfs-g4-anl-files-old/'\n",
    "cat = TDSCatalog(f'{base_url}{dt:%Y%m}/{dt:%Y%m%d}/catalog.xml')\n",
    "ncss = cat.datasets[f'gfsanl_4_{dt:%Y%m%d}_{dt:%H}00_000.grb2'].subset()\n",
    "\n",
    "# Create NCSS query for our desired time, region, and data variables\n",
    "query = ncss.query()\n",
    "\n",
    "query.time(dt)\n",
    "query.lonlat_box(north=65, south=15, east=310, west=220)\n",
    "query.accept('netcdf')\n",
    "query.variables('Geopotential_height_isobaric',\n",
    "                'Temperature_isobaric',\n",
    "                'u-component_of_wind_isobaric',\n",
    "                'v-component_of_wind_isobaric')\n",
    "\n",
    "# Obtain the queried data\n",
    "data = ncss.get_data(query)\n",
    "\n",
    "# Make into an xarray Dataset object\n",
    "ds = xr.open_dataset(NetCDF4DataStore(data)).metpy.parse_cf()\n",
    "\n",
    "# Pull out variables you want to use\n",
    "level = 850 * units.hPa\n",
    "hght_850 = ds.Geopotential_height_isobaric.metpy.sel(\n",
    "    vertical=level).squeeze()\n",
    "temp_850 = ds.Temperature_isobaric.metpy.sel(\n",
    "    vertical=level).squeeze()\n",
    "u_wind_850 = ds['u-component_of_wind_isobaric'].metpy.sel(\n",
    "    vertical=level).squeeze()\n",
    "v_wind_850 = ds['v-component_of_wind_isobaric'].metpy.sel(\n",
    "    vertical=level).squeeze()\n",
    "time = hght_850.metpy.time\n",
    "lat = ds.lat.values\n",
    "lon = ds.lon.values\n",
    "\n",
    "# Convert number of hours since the reference time into an actual date\n",
    "vtime = time.values.astype('datetime64[ms]').astype('O')\n",
    "\n",
    "# Combine 1D latitude and longitudes into a 2D grid of locations\n",
    "lon_2d, lat_2d = np.meshgrid(lon, lat)"
   ]
  },
  {
   "cell_type": "markdown",
   "metadata": {
    "cell_marker": "###############################################"
   },
   "source": [
    "Begin data calculations\n",
    "-----------------------"
   ]
  },
  {
   "cell_type": "code",
   "execution_count": null,
   "metadata": {},
   "outputs": [],
   "source": [
    "# Calculate temperature advection using metpy function\n",
    "adv = mpcalc.advection(temp_850, u_wind_850, v_wind_850)\n",
    "\n",
    "# Smooth heights and advection a little\n",
    "# Be sure to only put in a 2D lat/lon or Y/X array for smoothing\n",
    "Z_850 = mpcalc.smooth_gaussian(hght_850, 2)\n",
    "adv = mpcalc.smooth_gaussian(adv, 2)"
   ]
  },
  {
   "cell_type": "markdown",
   "metadata": {
    "cell_marker": "###############################################"
   },
   "source": [
    "Begin map creation\n",
    "------------------"
   ]
  },
  {
   "cell_type": "code",
   "execution_count": null,
   "metadata": {},
   "outputs": [],
   "source": [
    "# Set Projection of Data\n",
    "datacrs = ccrs.PlateCarree()\n",
    "\n",
    "# Set Projection of Plot\n",
    "plotcrs = ccrs.LambertConformal(central_latitude=45,\n",
    "                                central_longitude=-100, standard_parallels=[30, 60])\n",
    "\n",
    "# Create new figure\n",
    "fig = plt.figure(figsize=(14, 12))\n",
    "\n",
    "# Add the map and set the extent\n",
    "ax = plt.subplot(111, projection=plotcrs)\n",
    "plt.title(f'850mb Temperature Advection for {vtime:%d %B %Y %H:%MZ}',\n",
    "          fontsize=16)\n",
    "ax.set_extent([235., 290., 20., 55.])\n",
    "\n",
    "# Add state/country boundaries to plot\n",
    "ax.add_feature(cfeature.STATES)\n",
    "ax.add_feature(cfeature.BORDERS)\n",
    "\n",
    "# Plot Height Contours\n",
    "clev850 = np.arange(900, 3000, 30)\n",
    "cs = ax.contour(lon_2d, lat_2d, Z_850, clev850, colors='black', linewidths=1.5,\n",
    "                linestyles='solid', transform=datacrs)\n",
    "plt.clabel(cs, fontsize=10, inline=1, inline_spacing=10, fmt='%i',\n",
    "           rightside_up=True, use_clabeltext=True)\n",
    "\n",
    "# Plot Temperature Contours\n",
    "clevtemp850 = np.arange(-20, 20, 2)\n",
    "cs2 = ax.contour(lon_2d, lat_2d, temp_850.metpy.convert_units('degC'),\n",
    "                 clevtemp850, colors='grey', linewidths=1.25,\n",
    "                 linestyles='dashed', transform=datacrs)\n",
    "plt.clabel(cs2, fontsize=10, inline=1, inline_spacing=10, fmt='%i',\n",
    "           rightside_up=True, use_clabeltext=True)\n",
    "\n",
    "# Plot Colorfill of Temperature Advection\n",
    "cint = np.arange(-8, 9)\n",
    "cf = ax.contourf(lon_2d, lat_2d, 3*adv.metpy.convert_units('delta_degC/hour'),\n",
    "                 cint[cint != 0],\n",
    "                 extend='both', cmap='bwr', transform=datacrs)\n",
    "cb = plt.colorbar(cf, orientation='horizontal', pad=0, aspect=50,\n",
    "                  extendrect=True, ticks=cint)\n",
    "cb.set_label(r'$^{o}C/3h$', size='large')\n",
    "\n",
    "wind_slice = (slice(None, None, 10), slice(None, None, 10))\n",
    "# Plot Wind Barbs\n",
    "ax.barbs(lon_2d[wind_slice], lat_2d[wind_slice],\n",
    "         u_wind_850.metpy.convert_units('kt').values[wind_slice],\n",
    "         v_wind_850.metpy.convert_units('kt').values[wind_slice],\n",
    "         length=6, pivot='middle', transform=datacrs);"
   ]
  },
  {
   "cell_type": "code",
   "execution_count": null,
   "metadata": {},
   "outputs": [],
   "source": []
  }
 ],
 "metadata": {
  "jupytext": {
   "cell_metadata_filter": "-all",
   "main_language": "python",
   "notebook_metadata_filter": "-all"
  },
  "kernelspec": {
   "display_name": "Python 3 (ipykernel)",
   "language": "python",
   "name": "python3"
  },
  "language_info": {
   "codemirror_mode": {
    "name": "ipython",
    "version": 3
   },
   "file_extension": ".py",
   "mimetype": "text/x-python",
   "name": "python",
   "nbconvert_exporter": "python",
   "pygments_lexer": "ipython3",
   "version": "3.11.4"
  }
 },
 "nbformat": 4,
 "nbformat_minor": 4
}
