{
 "cells": [
  {
   "cell_type": "markdown",
   "metadata": {
    "cell_marker": "\"\"\""
   },
   "source": [
    "Analytic 300-hPa Trough\n",
    "======================="
   ]
  },
  {
   "cell_type": "code",
   "execution_count": null,
   "metadata": {},
   "outputs": [],
   "source": [
    "import matplotlib.pyplot as plt\n",
    "import metpy.calc as mpcalc\n",
    "from metpy.units import units\n",
    "import numpy as np"
   ]
  },
  {
   "cell_type": "markdown",
   "metadata": {
    "cell_marker": "######################################################################"
   },
   "source": [
    "Below are three definitions to create an analytic 300-hPa trough roughly\n",
    "based on the Sanders Analytic Model with modified coefficients to create\n",
    "different style waves.\n"
   ]
  },
  {
   "cell_type": "code",
   "execution_count": null,
   "metadata": {
    "lines_to_next_cell": 1
   },
   "outputs": [],
   "source": [
    "def single_300hPa_trough(parameter='hght'):\n",
    "    \"\"\" Single trough with heights and Temperatures based on Sanders Analytic Model\n",
    "    \"\"\"\n",
    "    X = np.linspace(.25, .75, 101)\n",
    "    Y = np.linspace(.25, .75, 101)\n",
    "\n",
    "    x, y = np.meshgrid(X, Y)\n",
    "\n",
    "    p = 4\n",
    "    q = 2\n",
    "\n",
    "    if parameter == 'hght':\n",
    "        return (9240 + 100 * np.cos(p * x * np.pi) * np.cos(q * y * np.pi)\n",
    "                + 200 * np.cos(y * np.pi) + 300 * y * np.cos(x * np.pi + np.pi / 2))\n",
    "    elif parameter == 'temp':\n",
    "        return (-50 + 2 * np.cos(p * x * np.pi) * np.cos(q * y * np.pi)\n",
    "                + 2 * np.cos(y * np.pi) + 0.5 * y * np.cos(x * np.pi + np.pi / 2))\n",
    "\n",
    "\n",
    "def lifting_300hPa_trough(parameter='hght'):\n",
    "    \"\"\" Lifting trough with heights and Temperatures based on Sanders Analytic Model\n",
    "    \"\"\"\n",
    "    X = np.linspace(.25, .75, 101)\n",
    "    Y = np.linspace(.25, .75, 101)\n",
    "\n",
    "    x, y = np.meshgrid(X, Y)\n",
    "\n",
    "    p = 4\n",
    "    q = 2\n",
    "\n",
    "    if parameter == 'hght':\n",
    "        return (9240 + 150 * np.cos(p * x * np.pi) * np.cos(q * y * np.pi)\n",
    "                + 200 * np.cos(y * np.pi) + 400 * y * np.cos(x * np.pi + np.pi))\n",
    "    elif parameter == 'temp':\n",
    "        return (-50 + 2 * np.cos(p * x * np.pi) * np.cos(q * y * np.pi)\n",
    "                + 2 * np.cos(y * np.pi) + 5 * y * np.cos(x * np.pi + np.pi))\n",
    "\n",
    "\n",
    "def digging_300hPa_trough(parameter='hght'):\n",
    "    \"\"\" Digging trough with heights and Temperatures based on Sanders Analytic Model\n",
    "    \"\"\"\n",
    "    X = np.linspace(.25, .75, 101)\n",
    "    Y = np.linspace(.25, .75, 101)\n",
    "\n",
    "    x, y = np.meshgrid(X, Y)\n",
    "\n",
    "    p = 4\n",
    "    q = 2\n",
    "\n",
    "    if parameter == 'hght':\n",
    "        return (9240 + 150 * np.cos(p * x * np.pi) * np.cos(q * y * np.pi)\n",
    "                + 200 * np.cos(y * np.pi) + 400 * y * np.sin(x * np.pi + 5 * np.pi / 2))\n",
    "    elif parameter == 'temp':\n",
    "        return (-50 + 2 * np.cos(p * x * np.pi) * np.cos(q * y * np.pi)\n",
    "                + 2 * np.cos(y * np.pi) + 5 * y * np.sin(x * np.pi + np.pi / 2))"
   ]
  },
  {
   "cell_type": "markdown",
   "metadata": {
    "cell_marker": "######################################################################"
   },
   "source": [
    "Call the appropriate definition to develop the desired wave.\n"
   ]
  },
  {
   "cell_type": "code",
   "execution_count": null,
   "metadata": {},
   "outputs": [],
   "source": [
    "# Single Trough\n",
    "Z = single_300hPa_trough(parameter='hght')\n",
    "T = single_300hPa_trough(parameter='temp')\n",
    "\n",
    "# Lifting Trough\n",
    "# Z = lifting_300hPa_trough(parameter='hght')\n",
    "# T = lifting_300hPa_trough(parameter='temp')\n",
    "\n",
    "# Digging Trough\n",
    "# Z = digging_300hPa_trough(parameter='hght')\n",
    "# T = digging_300hPa_trough(parameter='temp')"
   ]
  },
  {
   "cell_type": "markdown",
   "metadata": {
    "cell_marker": "######################################################################"
   },
   "source": [
    "Set geographic parameters for analytic grid to then\n"
   ]
  },
  {
   "cell_type": "code",
   "execution_count": null,
   "metadata": {},
   "outputs": [],
   "source": [
    "lats = np.linspace(35, 50, 101)\n",
    "lons = np.linspace(260, 290, 101)\n",
    "lon, lat = np.meshgrid(lons, lats)\n",
    "\n",
    "# Calculate Geostrophic Wind from Analytic Heights\n",
    "f = mpcalc.coriolis_parameter(lat * units('degrees'))\n",
    "dx, dy = mpcalc.lat_lon_grid_deltas(lons, lats)\n",
    "ugeo, vgeo = mpcalc.geostrophic_wind(Z*units.meter, f, dx, dy, dim_order='yx')\n",
    "\n",
    "# Get the wind direction for each point\n",
    "wdir = mpcalc.wind_direction(ugeo, vgeo)\n",
    "\n",
    "# Compute the Gradient Wind via an approximation\n",
    "dydx = mpcalc.first_derivative(Z, delta=dx, axis=1)\n",
    "d2ydx2 = mpcalc.first_derivative(dydx, delta=dx, axis=1)\n",
    "R = ((1 + dydx.m**2)**(3. / 2.)) / d2ydx2.m\n",
    "\n",
    "geo_mag = mpcalc.wind_speed(ugeo, vgeo)\n",
    "grad_mag = geo_mag.m - (geo_mag.m**2) / (f.magnitude * R)\n",
    "\n",
    "ugrad, vgrad = mpcalc.wind_components(grad_mag * units('m/s'), wdir)\n",
    "\n",
    "# Calculate Ageostrophic wind\n",
    "uageo = ugrad - ugeo\n",
    "vageo = vgrad - vgeo\n",
    "\n",
    "# Compute QVectors\n",
    "uqvect, vqvect = mpcalc.q_vector(ugeo, vgeo, T * units.degC, 500 * units.hPa, dx, dy)\n",
    "\n",
    "# Calculate divergence of the ageostrophic wind\n",
    "div = mpcalc.divergence(uageo, vageo, dx, dy, dim_order='yx')\n",
    "\n",
    "# Calculate Relative Vorticity Advection\n",
    "relvor = mpcalc.vorticity(ugeo, vgeo, dx, dy, dim_order='yx')\n",
    "adv = mpcalc.advection(relvor, (ugeo, vgeo), (dx, dy), dim_order='yx')"
   ]
  },
  {
   "cell_type": "markdown",
   "metadata": {
    "cell_marker": "######################################################################"
   },
   "source": [
    "Create figure containing Geopotential Heights, Temperature, Divergence\n",
    "of the Ageostrophic Wind, Relative Vorticity Advection (shaded),\n",
    "geostrphic wind barbs, and Q-vectors.\n"
   ]
  },
  {
   "cell_type": "code",
   "execution_count": null,
   "metadata": {},
   "outputs": [],
   "source": [
    "fig = plt.figure(figsize=(10, 10))\n",
    "ax = plt.subplot(111)\n",
    "\n",
    "# Plot Geopotential Height Contours\n",
    "cs = ax.contour(lons, lats, Z, range(0, 12000, 120), colors='k')\n",
    "plt.clabel(cs, fmt='%d')\n",
    "\n",
    "# Plot Temperature Contours\n",
    "cs2 = ax.contour(lons, lats, T, range(-50, 50, 2), colors='r', linestyles='dashed')\n",
    "plt.clabel(cs2, fmt='%d')\n",
    "\n",
    "# Plot Divergence of Ageo Wind Contours\n",
    "cs3 = ax.contour(lons, lats, div*10**9, np.arange(-25, 26, 3), colors='grey',\n",
    "                 linestyles='dotted')\n",
    "plt.clabel(cs3, fmt='%d')\n",
    "\n",
    "# Plot Rel. Vor. Adv. colorfilled\n",
    "cf = ax.contourf(lons, lats, adv*10**9, np.arange(-20, 21, 1), cmap=plt.cm.bwr)\n",
    "cbar = plt.colorbar(cf, orientation='horizontal', pad=0.05, aspect=50)\n",
    "cbar.set_label('Rel. Vor. Adv.')\n",
    "\n",
    "# Plot Geostrophic Wind Barbs\n",
    "wind_slice = slice(5, None, 10)\n",
    "ax.barbs(lons[wind_slice], lats[wind_slice],\n",
    "         ugeo[wind_slice, wind_slice].to('kt').m, vgeo[wind_slice, wind_slice].to('kt').m)\n",
    "\n",
    "# Plot Ageostrophic Wind Vectors\n",
    "# ageo_slice = slice(None, None, 10)\n",
    "# ax.quiver(lons[ageo_slice], lats[ageo_slice],\n",
    "#           uageo[ageo_slice, ageo_slice].m, vageo[ageo_slice, ageo_slice].m,\n",
    "#           color='blue', pivot='mid')\n",
    "\n",
    "# Plot QVectors\n",
    "qvec_slice = slice(None, None, 10)\n",
    "ax.quiver(lons[qvec_slice], lats[qvec_slice],\n",
    "          uqvect[qvec_slice, qvec_slice].m, vqvect[qvec_slice, qvec_slice].m,\n",
    "          color='darkcyan', pivot='mid')\n",
    "\n",
    "plt.title('300-hPa Geo Heights (black), Q-Vector (dark cyan), Divergence (grey; dashed)')"
   ]
  }
 ],
 "metadata": {
  "jupytext": {
   "cell_metadata_filter": "-all",
   "main_language": "python",
   "notebook_metadata_filter": "-all"
  },
  "kernelspec": {
   "display_name": "Python 3",
   "language": "python",
   "name": "python3"
  },
  "language_info": {
   "codemirror_mode": {
    "name": "ipython",
    "version": 3
   },
   "file_extension": ".py",
   "mimetype": "text/x-python",
   "name": "python",
   "nbconvert_exporter": "python",
   "pygments_lexer": "ipython3",
   "version": "3.7.6"
  }
 },
 "nbformat": 4,
 "nbformat_minor": 4
}
