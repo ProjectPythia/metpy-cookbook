{
 "cells": [
  {
   "cell_type": "markdown",
   "metadata": {
    "cell_marker": "\"\"\""
   },
   "source": [
    "QVector Example\n",
    "===============\n",
    "\n",
    "Computing Q-vectors and Q-vector divergence for a real case.\n",
    "\n",
    "By: Kevin Goebbert\n",
    "\n",
    "This example uses GFS output to compute the 850-hPa Q-vectors and\n",
    "Q-vector divergence for 12 UTC 26 October 2010."
   ]
  },
  {
   "cell_type": "markdown",
   "metadata": {
    "cell_marker": "######################################################################"
   },
   "source": [
    "Import needed modules\n"
   ]
  },
  {
   "cell_type": "code",
   "execution_count": null,
   "metadata": {},
   "outputs": [],
   "source": [
    "import cartopy.crs as ccrs\n",
    "import cartopy.feature as cfeature\n",
    "import matplotlib.pyplot as plt\n",
    "import metpy.calc as mpcalc\n",
    "from metpy.units import units\n",
    "import numpy as np\n",
    "import xarray as xr"
   ]
  },
  {
   "cell_type": "markdown",
   "metadata": {
    "cell_marker": "######################################################################"
   },
   "source": [
    "Use Xarray to access GFS data from THREDDS resource and uses\n",
    "metpy accessor to parse file to make it easy to pull data using\n",
    "common coordinate names (e.g., vertical) and attach units.\n"
   ]
  },
  {
   "cell_type": "code",
   "execution_count": null,
   "metadata": {},
   "outputs": [],
   "source": [
    "ds = xr.open_dataset('https://thredds.ucar.edu/thredds/dodsC/casestudies/'\n",
    "                     'python-gallery/GFS_20101026_1200.nc').metpy.parse_cf()"
   ]
  },
  {
   "cell_type": "markdown",
   "metadata": {
    "cell_marker": "######################################################################"
   },
   "source": [
    "Subset data based on latitude and longitude values and select only data\n",
    "from 850 hPa\n"
   ]
  },
  {
   "cell_type": "code",
   "execution_count": null,
   "metadata": {},
   "outputs": [],
   "source": [
    "# Set subset slice for the geographic extent of data to limit download\n",
    "lon_slice = slice(200, 350)\n",
    "lat_slice = slice(85, 10)\n",
    "\n",
    "# Grab lat/lon values (GFS will be 1D)\n",
    "lats = ds.lat.sel(lat=lat_slice).values\n",
    "lons = ds.lon.sel(lon=lon_slice).values\n",
    "\n",
    "# Grab data and smooth using a nine-point filter applied 50 times to grab\n",
    "# the synoptic signal\n",
    "level = 850 * units.hPa\n",
    "hght_850 = mpcalc.smooth_n_point(ds.Geopotential_height_isobaric.metpy.sel(\n",
    "    vertical=level, lat=lat_slice, lon=lon_slice).squeeze(), 9, 50)\n",
    "tmpk_850 = mpcalc.smooth_n_point(ds.Temperature_isobaric.metpy.sel(\n",
    "    vertical=level, lat=lat_slice, lon=lon_slice).squeeze(), 9, 25)\n",
    "uwnd_850 = mpcalc.smooth_n_point(ds['u-component_of_wind_isobaric'].metpy.sel(\n",
    "    vertical=level, lat=lat_slice, lon=lon_slice).squeeze(), 9, 50)\n",
    "vwnd_850 = mpcalc.smooth_n_point(ds['v-component_of_wind_isobaric'].metpy.sel(\n",
    "    vertical=level, lat=lat_slice, lon=lon_slice).squeeze(), 9, 50)\n",
    "\n",
    "# Convert temperatures to degree Celsius for plotting purposes\n",
    "tmpc_850 = tmpk_850.metpy.convert_units('degC')\n",
    "\n",
    "# Get a sensible datetime format\n",
    "vtime = ds.time.data[0].astype('datetime64[ms]').astype('O')"
   ]
  },
  {
   "cell_type": "markdown",
   "metadata": {
    "cell_marker": "######################################################################"
   },
   "source": [
    "Compute Q-vectors\n",
    "-----------------\n",
    "\n",
    "Use the MetPy module to compute Q-vectors from requisite data and\n",
    "additionally compute the Q-vector divergence (and multiply by -2) to\n",
    "calculate the right hand side forcing of the Q-G Omega equation.\n"
   ]
  },
  {
   "cell_type": "code",
   "execution_count": null,
   "metadata": {},
   "outputs": [],
   "source": [
    "# Compute grid spacings for data\n",
    "dx, dy = mpcalc.lat_lon_grid_deltas(lons, lats)\n",
    "\n",
    "# Compute the Q-vector components\n",
    "uqvect, vqvect = mpcalc.q_vector(uwnd_850, vwnd_850, tmpk_850, 850*units.hPa)\n",
    "\n",
    "# Compute the divergence of the Q-vectors calculated above\n",
    "q_div = -2*mpcalc.divergence(uqvect, vqvect)"
   ]
  },
  {
   "cell_type": "markdown",
   "metadata": {
    "cell_marker": "######################################################################"
   },
   "source": [
    "Plot Data\n",
    "---------\n",
    "\n",
    "Use Cartopy to plot data on a map using a Lambert Conformal projection.\n"
   ]
  },
  {
   "cell_type": "code",
   "execution_count": null,
   "metadata": {},
   "outputs": [],
   "source": [
    "# Set the map projection (how the data will be displayed)\n",
    "mapcrs = ccrs.LambertConformal(\n",
    "    central_longitude=-100, central_latitude=35, standard_parallels=(30, 60))\n",
    "\n",
    "# Set the data project (GFS is lat/lon format)\n",
    "datacrs = ccrs.PlateCarree()\n",
    "\n",
    "# Start the figure and set an extent to only display a smaller graphics area\n",
    "fig = plt.figure(1, figsize=(14, 12))\n",
    "ax = plt.subplot(111, projection=mapcrs)\n",
    "ax.set_extent([-130, -72, 20, 55], ccrs.PlateCarree())\n",
    "\n",
    "# Add map features to plot coastlines and state boundaries\n",
    "ax.add_feature(cfeature.COASTLINE.with_scale('50m'))\n",
    "ax.add_feature(cfeature.STATES.with_scale('50m'))\n",
    "\n",
    "# Plot 850-hPa Q-Vector Divergence and scale\n",
    "clevs_850_tmpc = np.arange(-40, 41, 2)\n",
    "clevs_qdiv = list(range(-30, -4, 5))+list(range(5, 31, 5))\n",
    "cf = ax.contourf(lons, lats, q_div*1e18, clevs_qdiv, cmap=plt.cm.bwr,\n",
    "                 extend='both', transform=datacrs)\n",
    "cb = plt.colorbar(cf, orientation='horizontal', pad=0, aspect=50,\n",
    "                  extendrect=True, ticks=clevs_qdiv)\n",
    "cb.set_label('Q-Vector Div. (*10$^{18}$ m s$^{-1}$ kg$^{-1}$)')\n",
    "\n",
    "# Plot 850-hPa Temperatures\n",
    "csf = ax.contour(lons, lats, tmpc_850, clevs_850_tmpc, colors='grey',\n",
    "                 linestyles='dashed', transform=datacrs)\n",
    "plt.clabel(csf, fmt='%d')\n",
    "\n",
    "# Plot 850-hPa Geopotential Heights\n",
    "clevs_850_hght = np.arange(0, 8000, 30)\n",
    "cs = ax.contour(lons, lats, hght_850, clevs_850_hght, colors='black',\n",
    "                transform=datacrs)\n",
    "plt.clabel(cs, fmt='%d')\n",
    "\n",
    "# Plot 850-hPa Q-vectors, scale to get nice sized arrows\n",
    "wind_slice = (slice(None, None, 5), slice(None, None, 5))\n",
    "ax.quiver(lons[wind_slice[0]], lats[wind_slice[1]],\n",
    "          uqvect[wind_slice].values,\n",
    "          vqvect[wind_slice].values,\n",
    "          pivot='mid', color='black',\n",
    "          scale=5e-12, scale_units='inches',\n",
    "          transform=datacrs)\n",
    "\n",
    "# Add some titles\n",
    "plt.title('850-hPa GFS Geo. Heights (m), Temp (C),'\n",
    "          ' and Q-Vectors (m$^2$ kg$^{-1}$ s$^{-1}$)', loc='left')\n",
    "plt.title(f'Valid Time: {vtime}', loc='right')"
   ]
  },
  {
   "cell_type": "code",
   "execution_count": null,
   "metadata": {},
   "outputs": [],
   "source": []
  }
 ],
 "metadata": {
  "jupytext": {
   "cell_metadata_filter": "-all",
   "main_language": "python",
   "notebook_metadata_filter": "-all"
  },
  "kernelspec": {
   "display_name": "Python 3",
   "language": "python",
   "name": "python3"
  },
  "language_info": {
   "codemirror_mode": {
    "name": "ipython",
    "version": 3
   },
   "file_extension": ".py",
   "mimetype": "text/x-python",
   "name": "python",
   "nbconvert_exporter": "python",
   "pygments_lexer": "ipython3",
   "version": "3.8.6"
  }
 },
 "nbformat": 4,
 "nbformat_minor": 4
}
