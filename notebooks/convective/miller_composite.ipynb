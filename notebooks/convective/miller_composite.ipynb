{
 "cells": [
  {
   "cell_type": "markdown",
   "metadata": {
    "cell_marker": "\"\"\"",
    "lines_to_next_cell": 0
   },
   "source": [
    "Miller Composite Chart\n",
    "======================\n",
    "Create a Miller Composite chart based on Miller 1972 in Python with MetPy and\n",
    "Matplotlib."
   ]
  },
  {
   "cell_type": "code",
   "execution_count": null,
   "metadata": {},
   "outputs": [],
   "source": [
    "from datetime import datetime, timedelta\n",
    "\n",
    "import cartopy.crs as ccrs\n",
    "import cartopy.feature as cfeature\n",
    "import matplotlib.lines as lines\n",
    "import matplotlib.patches as mpatches\n",
    "import matplotlib.pyplot as plt\n",
    "import metpy.calc as mpcalc\n",
    "import numpy as np\n",
    "import numpy.ma as ma\n",
    "\n",
    "from metpy.units import units\n",
    "from netCDF4 import num2date\n",
    "from scipy.ndimage import gaussian_filter\n",
    "from siphon.catalog import TDSCatalog\n",
    "from xarray.backends import NetCDF4DataStore\n",
    "import xarray as xr"
   ]
  },
  {
   "cell_type": "markdown",
   "metadata": {
    "cell_marker": "###########################"
   },
   "source": [
    "**Get the data**\n",
    "\n",
    "This example will use data from the North American Mesoscale Model Analysis for 18 UTC 27 April 2011."
   ]
  },
  {
   "cell_type": "code",
   "execution_count": null,
   "metadata": {},
   "outputs": [],
   "source": [
    "# Specify our date/time of product desired\n",
    "dt = datetime(2011, 4, 27, 18)\n",
    "\n",
    "# Construct the URL for our THREDDS Data Server Catalog,\n",
    "# and access our desired dataset within via NCSS\n",
    "base_url = 'https://www.ncei.noaa.gov/thredds/model-namanl-old/'\n",
    "cat = TDSCatalog(f'{base_url}{dt:%Y%m}/{dt:%Y%m%d}/catalog.xml')\n",
    "ncss = cat.datasets[f'namanl_218_{dt:%Y%m%d}_{dt:%H}00_000.grb'].subset()\n",
    "\n",
    "# Create our NCSS query with desired specifications\n",
    "query = ncss.query()\n",
    "query.all_times()\n",
    "query.add_lonlat()\n",
    "query.lonlat_box(-135, -60, 15, 65)\n",
    "query.variables('Geopotential_height_isobaric',\n",
    "                'u-component_of_wind_isobaric',\n",
    "                'v-component_of_wind_isobaric',\n",
    "                'Temperature_isobaric',\n",
    "                'Relative_humidity_isobaric',\n",
    "                'Best_4_layer_lifted_index_layer_between_two_pressure_'\n",
    "                'difference_from_ground_layer',\n",
    "                'Absolute_vorticity_isobaric',\n",
    "                'Pressure_reduced_to_MSL_msl',\n",
    "                'Dew_point_temperature_height_above_ground')\n",
    "\n",
    "# Obtain the data we've queried for\n",
    "data_18z = ncss.get_data(query)\n",
    "\n",
    "# Make into an xarray Dataset object\n",
    "ds_18z = xr.open_dataset(NetCDF4DataStore(data_18z)).metpy.parse_cf()\n",
    "\n",
    "# Assign variable names to collected data\n",
    "lat = ds_18z.lat\n",
    "lon = ds_18z.lon\n",
    "\n",
    "# Create more useable times for output\n",
    "times = ds_18z.Geopotential_height_isobaric.metpy.time.squeeze()\n",
    "vtimes = times.values.astype('datetime64[ms]').astype('O')\n",
    "\n",
    "temps = ds_18z.Temperature_isobaric.squeeze()\n",
    "uwnd = ds_18z['u-component_of_wind_isobaric'].squeeze()\n",
    "vwnd = ds_18z['v-component_of_wind_isobaric'].squeeze()\n",
    "hgt = ds_18z.Geopotential_height_isobaric.squeeze()\n",
    "relh = ds_18z.Relative_humidity_isobaric.squeeze()\n",
    "lifted_index = ds_18z['Best_4_layer_lifted_index_layer_between_two_'\n",
    "                      'pressure_difference_from_ground_layer'].squeeze()\n",
    "Td_sfc = ds_18z.Dew_point_temperature_height_above_ground.squeeze()\n",
    "avor = ds_18z.Absolute_vorticity_isobaric.squeeze()\n",
    "pmsl = ds_18z.Pressure_reduced_to_MSL_msl.squeeze()"
   ]
  },
  {
   "cell_type": "markdown",
   "metadata": {
    "cell_marker": "########################"
   },
   "source": [
    "Repeat the above process to query for the analysis from 12 hours earlier (06 UTC) to calculate pressure falls and height change."
   ]
  },
  {
   "cell_type": "code",
   "execution_count": null,
   "metadata": {},
   "outputs": [],
   "source": [
    "td = timedelta(hours=12)\n",
    "\n",
    "ncss_06z = cat.datasets[f'namanl_218_{dt:%Y%m%d}_{dt-td:%H}00_000.grb'].subset()\n",
    "\n",
    "query = ncss_06z.query()\n",
    "query.all_times()\n",
    "query.add_lonlat()\n",
    "query.lonlat_box(-135, -60, 15, 65)\n",
    "query.variables('Geopotential_height_isobaric',\n",
    "                'Pressure_reduced_to_MSL_msl')\n",
    "\n",
    "# Actually getting the data\n",
    "data_06z = ncss_06z.get_data(query)\n",
    "\n",
    "# Make into an xarray Dataset object\n",
    "ds_06z = xr.open_dataset(NetCDF4DataStore(data_06z)).metpy.parse_cf()\n",
    "\n",
    "hgt_06z = ds_06z.Geopotential_height_isobaric.squeeze()\n",
    "pmsl_06z = ds_06z.Pressure_reduced_to_MSL_msl.squeeze()"
   ]
  },
  {
   "cell_type": "markdown",
   "metadata": {
    "cell_marker": "###########################"
   },
   "source": [
    "**Subset the Data**\n",
    "\n",
    "With the data pulled in, we will now subset to the specific levels desired"
   ]
  },
  {
   "cell_type": "code",
   "execution_count": null,
   "metadata": {},
   "outputs": [],
   "source": [
    "# 300 hPa\n",
    "u_300 = uwnd.metpy.sel(vertical=300*units.hPa).metpy.convert_units('kt').squeeze()\n",
    "v_300 = vwnd.metpy.sel(vertical=300*units.hPa).metpy.convert_units('kt').squeeze()\n",
    "\n",
    "# 500 hPa\n",
    "avor_500 = avor.metpy.sel(vertical=500*units.hPa)\n",
    "u_500 = uwnd.metpy.sel(vertical=500*units.hPa).metpy.convert_units('kt').squeeze()\n",
    "v_500 = vwnd.metpy.sel(vertical=500*units.hPa).metpy.convert_units('kt').squeeze()\n",
    "hgt_500 = hgt.metpy.sel(vertical=500*units.hPa).squeeze()\n",
    "hgt_500_06z = hgt_06z.metpy.sel(vertical=500*units.hPa).squeeze()\n",
    "\n",
    "# 700 hPa\n",
    "tmp_700 = temps.metpy.sel(vertical=700*units.hPa).metpy.convert_units('degC').squeeze()\n",
    "rh_700 = relh.metpy.sel(vertical=700*units.hPa).squeeze()\n",
    "\n",
    "# 850 hPa\n",
    "u_850 = uwnd.metpy.sel(vertical=850*units.hPa).metpy.convert_units('kt').squeeze()\n",
    "v_850 = vwnd.metpy.sel(vertical=850*units.hPa).metpy.convert_units('kt').squeeze()"
   ]
  },
  {
   "cell_type": "markdown",
   "metadata": {
    "cell_marker": "########################################"
   },
   "source": [
    "**Prepare Variables for Plotting**\n",
    "\n",
    "With the data queried and subset, we will make any needed calculations in preparation for\n",
    "plotting.\n",
    "\n",
    "**The following fields should be plotted:**\n",
    "\n",
    "  500-hPa cyclonic vorticity advection\n",
    "\n",
    "  Surface-based Lifted Index\n",
    "\n",
    "  The axis of the 300-hPa, 500-hPa, and 850-hPa jets\n",
    "\n",
    "  Surface dewpoint\n",
    "\n",
    "  700-hPa dewpoint depression\n",
    "\n",
    "  12-hr surface pressure falls and 500-hPa height changes"
   ]
  },
  {
   "cell_type": "code",
   "execution_count": null,
   "metadata": {},
   "outputs": [],
   "source": [
    "# 500 hPa CVA\n",
    "vort_adv_500 = mpcalc.advection(avor_500, u_500, v_500,) * 1e9\n",
    "vort_adv_500_smooth = gaussian_filter(vort_adv_500, 4)"
   ]
  },
  {
   "cell_type": "markdown",
   "metadata": {
    "cell_marker": "####################################",
    "lines_to_next_cell": 0
   },
   "source": [
    "For the jet axes, we will calculate the windspeed at each level, and plot the highest values"
   ]
  },
  {
   "cell_type": "code",
   "execution_count": null,
   "metadata": {},
   "outputs": [],
   "source": [
    "wspd_300 = gaussian_filter(mpcalc.wind_speed(u_300, v_300), 5)\n",
    "wspd_500 = gaussian_filter(mpcalc.wind_speed(u_500, v_500), 5)\n",
    "wspd_850 = gaussian_filter(mpcalc.wind_speed(u_850, v_850), 5)"
   ]
  },
  {
   "cell_type": "markdown",
   "metadata": {
    "cell_marker": "################################",
    "lines_to_next_cell": 0
   },
   "source": [
    "700-hPa dewpoint depression will be calculated from Temperature_isobaric and RH"
   ]
  },
  {
   "cell_type": "code",
   "execution_count": null,
   "metadata": {},
   "outputs": [],
   "source": [
    "Td_dep_700 = tmp_700 - mpcalc.dewpoint_from_relative_humidity(tmp_700, rh_700)"
   ]
  },
  {
   "cell_type": "markdown",
   "metadata": {
    "cell_marker": "######################################",
    "lines_to_next_cell": 0
   },
   "source": [
    "12-hr surface pressure falls and 500-hPa height changes"
   ]
  },
  {
   "cell_type": "code",
   "execution_count": null,
   "metadata": {},
   "outputs": [],
   "source": [
    "pmsl_change = pmsl.metpy.quantify() - pmsl_06z.metpy.quantify()\n",
    "hgt_500_change = hgt_500.metpy.quantify() - hgt_500_06z.metpy.quantify()"
   ]
  },
  {
   "cell_type": "markdown",
   "metadata": {
    "cell_marker": "######################################"
   },
   "source": [
    "To plot the jet axes, we will mask the wind fields below the upper 1/3 of windspeed."
   ]
  },
  {
   "cell_type": "code",
   "execution_count": null,
   "metadata": {},
   "outputs": [],
   "source": [
    "# 500 hPa\n",
    "u_500_masked = u_500.where(wspd_500 > 0.66 * wspd_500.max(), np.nan)\n",
    "v_500_masked = v_500.where(wspd_500 > 0.66 * wspd_500.max(), np.nan)\n",
    "\n",
    "# 300 hPa\n",
    "u_300_masked = u_300.where(wspd_300 > 0.66 * wspd_300.max(), np.nan)\n",
    "v_300_masked = v_300.where(wspd_300 > 0.66 * wspd_300.max(), np.nan)\n",
    "\n",
    "# 850 hPa\n",
    "u_850_masked = u_850.where(wspd_850 > 0.66 * wspd_850.max(), np.nan)\n",
    "v_850_masked = v_850.where(wspd_850 > 0.66 * wspd_850.max(), np.nan)"
   ]
  },
  {
   "cell_type": "markdown",
   "metadata": {
    "cell_marker": "################################"
   },
   "source": [
    "**Create the Plot**\n",
    "\n",
    "With the data now ready, we will create the plot"
   ]
  },
  {
   "cell_type": "code",
   "execution_count": null,
   "metadata": {},
   "outputs": [],
   "source": [
    "# Set up our projection\n",
    "crs = ccrs.LambertConformal(central_longitude=-100.0, central_latitude=45.0)\n",
    "\n",
    "# Coordinates to limit map area\n",
    "bounds = [-122., -75., 25., 50.]"
   ]
  },
  {
   "cell_type": "markdown",
   "metadata": {
    "cell_marker": "#########################",
    "lines_to_next_cell": 0
   },
   "source": [
    "Plot the composite"
   ]
  },
  {
   "cell_type": "code",
   "execution_count": null,
   "metadata": {},
   "outputs": [],
   "source": [
    "fig = plt.figure(1, figsize=(17, 12))\n",
    "ax = fig.add_subplot(1, 1, 1, projection=crs)\n",
    "ax.set_extent(bounds, crs=ccrs.PlateCarree())\n",
    "ax.coastlines('50m', edgecolor='black', linewidth=0.75)\n",
    "ax.add_feature(cfeature.STATES, linewidth=0.25)\n",
    "\n",
    "# Plot Lifted Index\n",
    "cs1 = ax.contour(lon, lat, lifted_index, range(-8, -2, 2), transform=ccrs.PlateCarree(),\n",
    "                 colors='red', linewidths=0.75, linestyles='solid', zorder=7)\n",
    "cs1.clabel(fontsize=10, inline=1, inline_spacing=7,\n",
    "           fmt='%i', rightside_up=True, use_clabeltext=True)\n",
    "\n",
    "# Plot Surface pressure falls\n",
    "cs2 = ax.contour(lon, lat, pmsl_change.metpy.convert_units('hPa'), range(-10, -1, 4),\n",
    "                 transform=ccrs.PlateCarree(),\n",
    "                 colors='k', linewidths=0.75, linestyles='dashed', zorder=6)\n",
    "cs2.clabel(fontsize=10, inline=1, inline_spacing=7,\n",
    "           fmt='%i', rightside_up=True, use_clabeltext=True)\n",
    "\n",
    "# Plot 500-hPa height falls\n",
    "cs3 = ax.contour(lon, lat, hgt_500_change, range(-60, -29, 15),\n",
    "                 transform=ccrs.PlateCarree(), colors='k', linewidths=0.75,\n",
    "                 linestyles='solid', zorder=5)\n",
    "cs3.clabel(fontsize=10, inline=1, inline_spacing=7,\n",
    "           fmt='%i', rightside_up=True, use_clabeltext=True)\n",
    "\n",
    "# Plot surface pressure\n",
    "ax.contourf(lon, lat, pmsl.metpy.convert_units('hPa'), range(990, 1011, 20), alpha=0.5,\n",
    "            transform=ccrs.PlateCarree(),\n",
    "            colors='yellow', zorder=1)\n",
    "\n",
    "# Plot surface dewpoint\n",
    "ax.contourf(lon, lat, Td_sfc.metpy.convert_units('degF'), range(65, 76, 10), alpha=0.4,\n",
    "            transform=ccrs.PlateCarree(),\n",
    "            colors=['green'], zorder=2)\n",
    "\n",
    "# Plot 700-hPa dewpoint depression\n",
    "ax.contourf(lon, lat, Td_dep_700, range(15, 46, 30), alpha=0.5, transform=ccrs.PlateCarree(),\n",
    "            colors='tan', zorder=3)\n",
    "\n",
    "# Plot Vorticity Advection\n",
    "purple = ax.contourf(lon, lat, vort_adv_500_smooth, range(5, 106, 100), alpha=0.5,\n",
    "            transform=ccrs.PlateCarree(),\n",
    "            colors='BlueViolet', zorder=4)\n",
    "\n",
    "# Define a skip to reduce the barb point density\n",
    "skip_300 = (slice(None, None, 12), slice(None, None, 12))\n",
    "skip_500 = (slice(None, None, 10), slice(None, None, 10))\n",
    "skip_850 = (slice(None, None, 8), slice(None, None, 8))\n",
    "\n",
    "# 300-hPa wind barbs\n",
    "jet300 = ax.barbs(lon[skip_300].values, lat[skip_300].values,\n",
    "                  u_300_masked[skip_300].values, v_300_masked[skip_300].values,\n",
    "                  length=6,\n",
    "                  transform=ccrs.PlateCarree(),\n",
    "                  color='green', zorder=10, label='300-hPa Jet Core Winds (kt)')\n",
    "\n",
    "\n",
    "# 500-hPa wind barbs\n",
    "jet500 = ax.barbs(lon[skip_500].values, lat[skip_500].values,\n",
    "                  u_500_masked[skip_500].values, v_500_masked[skip_500].values,\n",
    "                  length=6,\n",
    "                  transform=ccrs.PlateCarree(),\n",
    "                  color='blue', zorder=9, label='500-hPa Jet Core Winds (kt)')\n",
    "\n",
    "# 850-hPa wind barbs\n",
    "jet850 = ax.barbs(lon[skip_850].values, lat[skip_850].values,\n",
    "                  u_850_masked[skip_850].values, v_850_masked[skip_850].values,\n",
    "                  length=6,\n",
    "                  transform=ccrs.PlateCarree(),\n",
    "                  color='k', zorder=8, label='850-hPa Jet Core Winds (kt)')\n",
    "\n",
    "# Legend\n",
    "purple = mpatches.Patch(color='BlueViolet', alpha=0.5, label='Cyclonic Absolute Vorticity Advection')\n",
    "yellow = mpatches.Patch(color='yellow', alpha=0.5, label='Surface MSLP < 1010 hPa')\n",
    "green = mpatches.Patch(color='green', alpha=0.5, label='Surface Td > 65 F')\n",
    "tan = mpatches.Patch(color='tan', alpha=0.5, label='700 hPa Dewpoint Depression > 15 C')\n",
    "red_line = lines.Line2D([], [], color='red', label='Best Lifted Index (C)')\n",
    "dashed_black_line = lines.Line2D([], [], linestyle='dashed', color='k',\n",
    "                                 label='12-hr Surface Pressure Falls (hPa)')\n",
    "black_line = lines.Line2D([], [], linestyle='solid', color='k',\n",
    "                          label='12-hr 500-hPa Height Falls (m)')\n",
    "leg = plt.legend(handles=[jet300, jet500, jet850, dashed_black_line, black_line, red_line,\n",
    "                          purple, tan, green, yellow], loc=3,\n",
    "                 title=f'Composite Analysis Valid: {vtimes}',\n",
    "                 framealpha=1)\n",
    "leg.set_zorder(100)"
   ]
  },
  {
   "cell_type": "code",
   "execution_count": null,
   "metadata": {},
   "outputs": [],
   "source": []
  }
 ],
 "metadata": {
  "jupytext": {
   "cell_metadata_filter": "-all",
   "main_language": "python",
   "notebook_metadata_filter": "-all"
  },
  "kernelspec": {
   "display_name": "Python 3 (ipykernel)",
   "language": "python",
   "name": "python3"
  },
  "language_info": {
   "codemirror_mode": {
    "name": "ipython",
    "version": 3
   },
   "file_extension": ".py",
   "mimetype": "text/x-python",
   "name": "python",
   "nbconvert_exporter": "python",
   "pygments_lexer": "ipython3",
   "version": "3.11.4"
  }
 },
 "nbformat": 4,
 "nbformat_minor": 4
}
